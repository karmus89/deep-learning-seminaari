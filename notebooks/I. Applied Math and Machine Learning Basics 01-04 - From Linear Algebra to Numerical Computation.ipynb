{
 "cells": [
  {
   "cell_type": "markdown",
   "metadata": {
    "slideshow": {
     "slide_type": "slide"
    }
   },
   "source": [
    "*Created by Petteri Nevavuori.*\n",
    "\n",
    "---\n",
    "\n",
    "# Deep Learning seminaari\n",
    "\n",
    "Kirjana Goodfellow et al.: Deep Learning (2016)\n",
    "\n",
    "Otsikot seuraavat pääotsikoiden tasolla kirjaa, mutta alaotsikot eivät aina."
   ]
  },
  {
   "cell_type": "markdown",
   "metadata": {
    "slideshow": {
     "slide_type": "slide"
    },
    "toc": true
   },
   "source": [
    "<h1>Table of Contents<span class=\"tocSkip\"></span></h1>\n",
    "<div class=\"toc\"><ul class=\"toc-item\"><li><span><a href=\"#1.-Introduction\" data-toc-modified-id=\"1.-Introduction-1\">1. Introduction</a></span></li><li><span><a href=\"#2.-Linear-Algebra\" data-toc-modified-id=\"2.-Linear-Algebra-2\">2. Linear Algebra</a></span><ul class=\"toc-item\"><li><span><a href=\"#PCA\" data-toc-modified-id=\"PCA-2.1\">PCA</a></span></li></ul></li><li><span><a href=\"#3.-Probability-and-Information-Theory\" data-toc-modified-id=\"3.-Probability-and-Information-Theory-3\">3. Probability and Information Theory</a></span></li><li><span><a href=\"#4.-Numerical-Computation\" data-toc-modified-id=\"4.-Numerical-Computation-4\">4. Numerical Computation</a></span><ul class=\"toc-item\"><li><span><a href=\"#Gradient-Descent\" data-toc-modified-id=\"Gradient-Descent-4.1\">Gradient Descent</a></span></li><li><span><a href=\"#Gradient-Descentin-laajennokset\" data-toc-modified-id=\"Gradient-Descentin-laajennokset-4.2\">Gradient Descentin laajennokset</a></span></li></ul></li></ul></div>"
   ]
  },
  {
   "cell_type": "markdown",
   "metadata": {
    "slideshow": {
     "slide_type": "slide"
    }
   },
   "source": [
    "##  1. Introduction"
   ]
  },
  {
   "cell_type": "markdown",
   "metadata": {
    "slideshow": {
     "slide_type": "subslide"
    }
   },
   "source": [
    "Datapohjainen koneoppiminen on ennenkaikkea representaatioiden oppimista. Representaatiolla tarkoitetaan piirteitä, jotka algoritmit oppivat itse datasta. Tekoäly on vain hypetermi, joka ei varsinaisesti tarkoita yhtään mitään, ja jonka sisään koneoppimisen ja syväoppimisen menetelmät kuuluvat."
   ]
  },
  {
   "cell_type": "markdown",
   "metadata": {
    "slideshow": {
     "slide_type": "subslide"
    }
   },
   "source": [
    "Syväoppimismenetelmät pohjaavat hyvin vahvasti matemaattisiin malleihin, kuten lineaarialgebraan, todennäköisyys- ja informaatioteorioihin, koneelliseen laskentaan ja koneoppimisen perusteisiin. Neuroverkot, eli aivojen toimintaa jäljittelevät algoritmit, ovat nousseet esille jo 40-luvulta alkaen (esim. Perceptron). Laskenta- ja tallennuskapasiteetin kasvu on keskiössä etenkin käytössä olevien datasettien määrän ja kokoluokan näkökulmasta."
   ]
  },
  {
   "cell_type": "markdown",
   "metadata": {
    "slideshow": {
     "slide_type": "slide"
    }
   },
   "source": [
    "## 2. Linear Algebra"
   ]
  },
  {
   "cell_type": "markdown",
   "metadata": {
    "slideshow": {
     "slide_type": "subslide"
    }
   },
   "source": [
    "Tässä luvussa käydään läpi kirjoittajien notaatiota sekä matriisilaskennan perusteita aina tensoreihin asti. Lineaarialgebran peruselementit ovat:\n",
    "\n",
    " - *Skalaari*: Yksittäinen luku, tai yhden alkion vektori.\n",
    " - *Vektori*: Lukujono, tai yhden sarakkeen matriisi.\n",
    " - *Matriisi*: Taulukko, tai kaksiulotteinen tensori.\n",
    " - **Tensori**: Moniulotteinen tietorakenne.\n",
    " "
   ]
  },
  {
   "cell_type": "markdown",
   "metadata": {
    "slideshow": {
     "slide_type": "subslide"
    }
   },
   "source": [
    "Näistä elementeistä etenkin tensori muodostuu tärkeäksi syväoppimisen alueella, sillä se on lähes pääsääntöisimmin käytetty tietorakenne mm. TensowFlow-, Keras- ja PyTorch-kirjastoissa. Tensorilla pystytään helposti mallintamaan vaikkapa kolmiulotteista maailmaa käyttämällä kolmiulotteista tensoria."
   ]
  },
  {
   "cell_type": "markdown",
   "metadata": {
    "slideshow": {
     "slide_type": "subslide"
    }
   },
   "source": [
    "Matriisien summaus, kertominen skaalarilla ja skalaarin summaus on elementtikohtaista. Matriisien keskinäinen kerronta taas tuottaa uuden matriisin: \n",
    "\n",
    "$$\\begin{bmatrix}\n",
    "1 & 2 \\\\\n",
    "2 & 3 \\\\\n",
    "3 & 4 \n",
    "\\end{bmatrix}*\n",
    "\\begin{bmatrix}\n",
    "1 \\\\\n",
    "0\n",
    "\\end{bmatrix}=\n",
    "\\begin{bmatrix}\n",
    "1 \\\\\n",
    "2 \\\\\n",
    "3\n",
    "\\end{bmatrix}\n",
    "$$"
   ]
  },
  {
   "cell_type": "markdown",
   "metadata": {
    "slideshow": {
     "slide_type": "subslide"
    }
   },
   "source": [
    "Sama esitettynä vielä Python-syntaksilla:"
   ]
  },
  {
   "cell_type": "code",
   "execution_count": 1,
   "metadata": {
    "slideshow": {
     "slide_type": "fragment"
    }
   },
   "outputs": [
    {
     "data": {
      "text/plain": [
       "array([[1],\n",
       "       [2],\n",
       "       [3]])"
      ]
     },
     "execution_count": 1,
     "metadata": {},
     "output_type": "execute_result"
    }
   ],
   "source": [
    "import numpy as np\n",
    "x1 = np.array([[1,2],[2,3],[3,4]])\n",
    "x2 = np.array([[1],[0]])\n",
    "np.matmul(x1,x2)"
   ]
  },
  {
   "cell_type": "markdown",
   "metadata": {
    "slideshow": {
     "slide_type": "subslide"
    }
   },
   "source": [
    "Muutoin luvussa käydään hyvinkin pitkälti matikan kurssien P1 ja P2 asiaa. Kirjan pääpaino ei ole lineaarialgebrassa, mutta sitä käydään riittävästi läpi, jotta sen päälle rakentaville aiheille on riittävästi käsiteltyä pohjaa. "
   ]
  },
  {
   "cell_type": "markdown",
   "metadata": {
    "slideshow": {
     "slide_type": "subslide"
    }
   },
   "source": [
    "Eräs tämän luvun alun pääpainoista kiteytyy lineaariyhtälön $Ax=b$ ratkaisemiseen, missä $A \\in \\mathbb{R}^{m \\times n}$ on matriisi, $b \\in \\mathbb{R}^{m}$ on vektori ja $x \\in \\mathbb{R}^{n}$ on tuntemattomia arvoja sisältävä vektori. Ratkaisuun hyödynnytään identiteettimatriisia, joka saadaan kertomalla matriisi $A$ sen käänteismatriisilla $A^{-1}$. Lopputuloksena lineaariyhtälö voidaan täten kirjoittaa muotoon $x = A^{-1}b$."
   ]
  },
  {
   "cell_type": "markdown",
   "metadata": {
    "slideshow": {
     "slide_type": "subslide"
    }
   },
   "source": [
    "Luvussa käydään läpi myös lineaarista riippuvuutta sekä virittäviä joukkoja, mitkä liittyvät olennaisesti lineaaristen ongelmien ratkaisuun. Vektori $a \\in \\mathbb{R}^{n}$ on lineaarisesti riippumaton, mikäli yksikään saman joukon muista vektoreista ei ole sen lineaarikombinaatio - sitä ei siis voida johtaa mistään muusta joukon vektorista. Virittävä joukko taas on kokoelma riippumattomia vektoreita, joilla saadaan täytettyä $n$-ulotteinen lukuavaruus joko osin tai kokonaan. Virittävällä joukolla voidaan ratkaista vain ne lineaariset ongelmat, joiden ratkaistut arvot ovat virittävän joukon kattaman $n$-ulotteisen alueen sisällä."
   ]
  },
  {
   "cell_type": "markdown",
   "metadata": {
    "slideshow": {
     "slide_type": "subslide"
    }
   },
   "source": [
    "Vektorin pituutta ilmaistaan sen etäisyydellä origosta, esimerkiksi normaalivektorilla. $L^2$ eli Eukliidinen normaali on yleisesti käytetty mitta, jossa vektorin pituus lasketaan sen neliönä. Mitan matemaattinen merkintätapa on usein $\\|x\\|_2$. $L^1$ taas on lineaarisesti kasvava mitta. Muitakin tapoja löytyy."
   ]
  },
  {
   "cell_type": "markdown",
   "metadata": {
    "slideshow": {
     "slide_type": "subslide"
    }
   },
   "source": [
    "Matriiseista nostetaan erikseen vielä esiin muutamia erikoistapauksia. Näitä ovat:\n",
    "\n",
    " - Diagonaalimatriisi, jossa nollasta poikkeavia lukuja esiintyy vain halkaisijalla.\n",
    " - Symmetrinen matriisi, jossa $A=A^T$.\n",
    " - Yksikkövektori, jonka pituus $\\| x \\|_2 = 1$.\n",
    " - Kohtisuorat eli 90 asteen kulmassa olevat vektorit, joiden tulo $x^Ty=0$.\n",
    " - Kohtisuorat matriisit, joiden tulo $A^TA=I$.\n",
    " "
   ]
  },
  {
   "cell_type": "markdown",
   "metadata": {
    "slideshow": {
     "slide_type": "subslide"
    }
   },
   "source": [
    "Luvussa käydään läpi myös ominaisvektoreita (*eigenvector*), joka on yksi menetelmä matriisin ositteluun (*decomposition*). Esimerkiksi vektori $v$ on matriisin $A$ ominaisvektori, jos $Av=\\lambda v$ ja $\\lambda$ on skalaarikerroin. Toisin sanoen vektorilla $v$ voidaan kattaa koko matriisi $A$. Ominaisvektorit ovat matriisikohtaisesti riippumattomia ja niitä on normaalisti useampi matriisia kohden - ominaisvektoreista muodostetaan normaalisti matriisi $V$. Käytännössä ominaisvektoreita voidaan käyttää skaalauksessa, kun tahdotaan esimerkiksi muokata kahdessa ulottuvuudessa olevasta ympyrästä ellipsi. "
   ]
  },
  {
   "cell_type": "markdown",
   "metadata": {
    "slideshow": {
     "slide_type": "subslide"
    }
   },
   "source": [
    "Ominaisvektoreita hyödyntämällä voidaan matriisi lausua kaavana\n",
    "\n",
    "$$A=V \\text{diag} (\\lambda)V^{-1}.$$"
   ]
  },
  {
   "cell_type": "markdown",
   "metadata": {
    "slideshow": {
     "slide_type": "subslide"
    }
   },
   "source": [
    "Toinen osittelumenetelmä on yksittäisarvo-osittelu (*singular value decomposition, SVD*). Riippumattomien vektoreiden joukon ja niiden skalaarien selvittämisen sijasta matriisi $A$ hajoitetaan matriisituloksi $UDV^T$. Matriiseina $A$ on $m \\times n$, $U$ on $m \\times m$, $D$ on $m \\times n$ ja $V$ on $n \\times n$. Matriisit $U$ ja $V$ ovat kohtisuoria toisiinsa nähden ja neliön muotoisia. $D$-matriisin halkaisijalla ovat $A$-matriisin yksittäisarvot eli ulottuvuuskohtaiset kertoimet. "
   ]
  },
  {
   "cell_type": "markdown",
   "metadata": {
    "slideshow": {
     "slide_type": "subslide"
    }
   },
   "source": [
    "Tätä kaikkea voidaan hyödyntää matriisi-inversioiden tekemisessä. Ominaisvektoreista mainittu mukaan luettuna matriisi voidaan jo lausua\n",
    "\n",
    "$$A=V \\text{diag} (\\lambda)V^{-1} = UDV^T.$$"
   ]
  },
  {
   "cell_type": "markdown",
   "metadata": {
    "slideshow": {
     "slide_type": "slide"
    }
   },
   "source": [
    "### PCA"
   ]
  },
  {
   "cell_type": "markdown",
   "metadata": {
    "slideshow": {
     "slide_type": "subslide"
    }
   },
   "source": [
    "Käyttämällä vain perinteistä lineaarialgebraa voidaan hyödyntää jo yhtä koneoppimismenetelmää dimensionaalisuuden vähentämiseksi, pääkomponenttianalyysiä (*principal component analysis*). Menetelmän tavoitteena on supistaa matriisin $A \\in \\mathbb{R}^n$ ulottuvuuksia siten, että mahdollisimman vähän informaatiota joutuu hukkaan. Toisin sanoen matriisin $A$ jokaiselle vektorille $x \\in \\mathbb{R}^n$ pyritään löytämään koodaava vektori $c \\in \\mathbb{R}^l$.  Tavoitteena on löytää vektorin $c$ tuottava koodaava funktio $\\text{f}(x)=c$ sekä dekoodaava funktio $\\text{g}(\\text{f}(x)) = \\text{g}(c) \\approx x$. Tämä tapahtuu määrittämällä dekodaausfunktioksi $\\text{g}(c)=Dc$, jossa $D \\in \\mathbb{R}^{n \\times l}$ ja saman matriisin sarakkeiden tulee myös olla toisiinsa nähden vastakkaiset."
   ]
  },
  {
   "cell_type": "markdown",
   "metadata": {
    "slideshow": {
     "slide_type": "subslide"
    }
   },
   "source": [
    "Tavoitteena tällä kaikella on löytää uniikki ratkaisu, jolla matriisin $D$ laskenta on tehokasta, jota varten kirjassa käydään algoritmin johtaminen perusteellisesti läpi."
   ]
  },
  {
   "cell_type": "markdown",
   "metadata": {
    "slideshow": {
     "slide_type": "slide"
    }
   },
   "source": [
    "## 3. Probability and Information Theory"
   ]
  },
  {
   "cell_type": "markdown",
   "metadata": {
    "slideshow": {
     "slide_type": "subslide"
    }
   },
   "source": [
    "Todennäköisyysteoriat ovat matemaattisia malleja ja/tai kehyksiä (*framework*) epävarmuuksien esittämiseen määräällisessä eli kvantifoidussa muodossa. Ne voidaan nähdä logiikan laajennoksina epätodennäköisyyksien alueelle. Todennäköisyydet ovat tekoälyyn liittyen tärkeässä roolissa sekä mallien suunnittelun että niiden toiminnan tarkastelun kohdilla. Niillä on samoin myös rooli mallien epävarmuuksien tuottamisessa - toisiinsa joko suorasti tai epäsuorasti vaikuttavat satunnaismuuttujat tuovat mukanaan epävarmuutta, joka on jossain määrin kvantifoitava todennäiköisyyksiksi. "
   ]
  },
  {
   "cell_type": "markdown",
   "metadata": {
    "slideshow": {
     "slide_type": "subslide"
    }
   },
   "source": [
    "Epävarmuuden lähteitä on kolme:\n",
    "\n",
    " 1. Aito sisäänrakennettu satunnaisuus\n",
    " 2. Rajoitetusta havainnointikyvystä johdettava epävarmuus\n",
    " 3. Epätäydellinen mallinnus, esim. datan valinnan vuoksi\n",
    " "
   ]
  },
  {
   "cell_type": "markdown",
   "metadata": {
    "slideshow": {
     "slide_type": "subslide"
    }
   },
   "source": [
    "Sellaista todennäköisyyttä, joka voidaan todentaa toistoilla, nimitetään frekvenssiseksi todennäköisyydeksi (*frequentist probability*). Esimerkiksi korttipelin todennäköisyyksiä voidaan testata tekemällä eri tilanteiden toistoja ad infinitum. Toisaalta todennäköisyyttä, jossa kaikkia piileviä asioita ei vain voida huomioida, kutsutaan Bayesilaiseksi todennäköisyydeksi (*Bayesian probability*). Esimerkkinä on lause *\"potilaalla on 40% todennäköisyydellä flunssa\"*, joka oikeammin ilmentää uskomuksen astetta (*degree of belief*). Bayesilaista todennäköisyyttä on kuitenkin käsiteltävä kuin frekvenssistä, jotta todennäköisyyslaskelmien tekeminen on mielekästä."
   ]
  },
  {
   "cell_type": "markdown",
   "metadata": {
    "slideshow": {
     "slide_type": "subslide"
    }
   },
   "source": [
    "Satunnaismuuttujat (*random variable*) ovat muuttujia, jotka voivat saada vaihtelevia arvoja satunnaisesti. Ne voivat olla jatkuvia tai diskreettejä. Todennäköisyysjakaumat (*probability distribution*) kertovat, kuinka todennäköistä jokin arvo on satunnaismuuttujalle. Diskreeteille ja jatkuville satunnaismuuttujille on omat todennäköisyysjakaumansa. Diskreettien arvojen todennäköisyysjakauma on pistetodennäköisyysfunktio (*probability mass function*) ja jatkuvien arvojen jakaumat tiheysfunktioita (*probability density function*)."
   ]
  },
  {
   "cell_type": "markdown",
   "metadata": {
    "slideshow": {
     "slide_type": "subslide"
    }
   },
   "source": [
    "Satunnaismuuttujille voidaan laskea sekä yksittäisiä että ketjutettuja ehdollisia todennäköisyyksiä. Ehdollinen todennäköisyys on kaavan muotoon puettuna \n",
    "\n",
    "$$P(\\text{y}=y | \\text{x}=x)=\\frac{P(\\text{y}=y,\\text{x}=x)}{P(\\text{x}=x)}.$$"
   ]
  },
  {
   "cell_type": "markdown",
   "metadata": {
    "slideshow": {
     "slide_type": "subslide"
    }
   },
   "source": [
    "Ketjutettu satunnaismuuttujien ehdollinen todennäköisyys usean satunnaismuuttujan osalta saadaan kertomalla kaikki ehdolliset todennäköisyydet keskenään. Satunnaismuuttujat ovat keskenään riippumattomia, mikäli niitä kaikkia tarvitaan niiden yhdessä muodostaman todennäköisyysjakauman muodostamiseen. Ne voivat olla myös ehdollisesti riippumattomia."
   ]
  },
  {
   "cell_type": "markdown",
   "metadata": {
    "slideshow": {
     "slide_type": "subslide"
    }
   },
   "source": [
    "Tärkeitä tilastollisia suureita satunnaismuuttujiin ja niiden todennäköisysjakaumiin liittyen ovat:\n",
    "\n",
    " - Odotuarvo $\\mathbb{E}$ (*expected value*), joka usein on satunnaismuuttujan saama keskiarvo suhteessa sen jakaumaan.\n",
    " - Varianssi $\\sigma$ (*variance*), joka ilmentää satunnaismuuttujan arvon vaihtelua suhteessa odotusarvoon (tosin symmetrisesti).\n",
    " - Keskihajonta $\\sqrt{\\sigma}$ (*standard deviation*) eli varianssin neliöjuuri.\n",
    " - Kovarianssi (*covariance*) kertoo satunnaismuuttujien lineaarisesta riippuvuudesta sekä skaaloista.\n",
    " - Korrelaatio (*correlation*) kertoo satunnaismuuttujien vaikutuksesta toisiin muuttujiin tai lopputulokseen.\n",
    " "
   ]
  },
  {
   "cell_type": "markdown",
   "metadata": {
    "slideshow": {
     "slide_type": "subslide"
    }
   },
   "source": [
    "Näiden asioiden jälkeen kirjassa käydään litanja usein käytettyjä todennäköisyysjakaumia. Viimeisinä asioina käsitellään informaatioteoriaa, joka on sovelletun matematiikan osa-alueella ja keskittyy informaation määrän selvittämiseen signaalissa. Intuitiivisenä kulmakivenä on ajatus, että epätodennäköiset tapahtumat ovat lähtökohtaisesti informatiivisempia kuin todennäköiset, s.o. tavanomaiset. "
   ]
  },
  {
   "cell_type": "markdown",
   "metadata": {
    "slideshow": {
     "slide_type": "subslide"
    }
   },
   "source": [
    "Puettuna ehtoihin tämä tarkoittaa, että\n",
    "\n",
    " 1. Tavanomaisilla tapahtumilla on matala informaatioarvio ja taatusti tapahtuvilla olematon\n",
    " 2. Epätodennäköisemmillä tapahtulla tulisi olla korkeampi informaatioarvo\n",
    " 3. Riippumattomilla tapahtumilla tulisi olla informaatiota lisäävä vaikutus\n",
    " "
   ]
  },
  {
   "cell_type": "markdown",
   "metadata": {
    "slideshow": {
     "slide_type": "subslide"
    }
   },
   "source": [
    "Kaavaan puettuna itseinformaation (*self-information*) funktio on\n",
    "\n",
    "$$I(\\text{x})=-\\text{log}P(\\text{x}), 0 \\le P(\\text{x}) \\le 1.$$"
   ]
  },
  {
   "cell_type": "markdown",
   "metadata": {
    "slideshow": {
     "slide_type": "subslide"
    }
   },
   "source": [
    "Alla on vielä sama esitetty kaaviona. Mitä epätodennäköisempi tapahtuma eli pienempi $P(\\text{x})$, sitä suurempi sen informaatioarvo."
   ]
  },
  {
   "cell_type": "code",
   "execution_count": 2,
   "metadata": {
    "slideshow": {
     "slide_type": "fragment"
    }
   },
   "outputs": [
    {
     "data": {
      "image/png": "[encoded data removed]",
      "text/plain": [
       "<matplotlib.figure.Figure at 0x1fd4f3d1080>"
      ]
     },
     "metadata": {},
     "output_type": "display_data"
    }
   ],
   "source": [
    "import matplotlib.pyplot as plt\n",
    "import numpy as np\n",
    "x = np.arange(1,100)/100\n",
    "plt.plot(x,-np.log(x))\n",
    "plt.ylabel(\"$I(x)=-logP(x)$\")\n",
    "plt.xlabel(\"$P(x)$\")\n",
    "plt.xlim([0,1])\n",
    "plt.ylim([0,max(-np.log(x))])\n",
    "plt.show()"
   ]
  },
  {
   "cell_type": "markdown",
   "metadata": {
    "slideshow": {
     "slide_type": "subslide"
    }
   },
   "source": [
    "Itseinformaatio on kuitenkin kätevä vain yksittäisarvojen kanssa. Shannonin entropian (*Shannon entropy*) kaavalla voidaan laskea informaatioarvo koko jakaumalle, jolloin saatu informaatioarvo kertoo jonkinlaisen jakauman omaavan satunnaismuuttujan informaation odotusarvon. Jatkuvilla luvuilla sama entropian kaava tunnetaan nimellä differentiaalientropia (*differential entropy*). "
   ]
  },
  {
   "cell_type": "markdown",
   "metadata": {
    "slideshow": {
     "slide_type": "subslide"
    }
   },
   "source": [
    "Informaatioarvo lasketaan jakauman odotusarvolle kaavalla\n",
    "\n",
    "$$ H(P) = H(\\text{x}) = \\mathbb{E}_{x}[I(\\text{x})].$$"
   ]
  },
  {
   "cell_type": "markdown",
   "metadata": {
    "slideshow": {
     "slide_type": "fragment"
    }
   },
   "source": [
    "Ja kun samaa satunnaismuuttujaa hyödyntävien jakaumien määrä kasvaa, voidaan hyödyntää Kullback-Leiblerin eroavuutta (*divergence*), joka on kaavaan puettuna\n",
    "\n",
    "$$ D_{KL}(P \\| Q) = \\mathbb{E}_{x}\\left[\\text{log}\\frac{P(\\text{x})}{Q(\\text{x})}\\right] = \\mathbb{E}_{x}[\\text{log}P(\\text{x})-\\text{log}Q(\\text{x})].$$"
   ]
  },
  {
   "cell_type": "markdown",
   "metadata": {
    "slideshow": {
     "slide_type": "subslide"
    }
   },
   "source": [
    "Koneoppimismallien kanssa toimiessa joudutaan usein tekemisiin huomattavan suurten satunnaismuuttujamäärien kanssa. Yhden, koko muuttujien kirjoa kuvailevan, todennäköisyysfunktion sijaan todennäköisyysjakaumat jaetaan ennemmin osiin. Nämä osat kerrottuna keskenään muodostavat sitten lopullisen todennäköisyysjakauman. Ositeltu todennäköisyysjakauma voidaan esittää strukturoituna todennäköisyysmallina (*structured probability model*) eli graafina (*graphical model*). Suunnatut (*directed*) graafit ilmentävät ehdollisia todennäköisyyksiä. Suuntaamattomat (*undirected*) graafit ilmentävät osittelua funktioiksi, jotka eivät normaalisti ole todennäköisyysjakaumia."
   ]
  },
  {
   "cell_type": "markdown",
   "metadata": {
    "slideshow": {
     "slide_type": "slide"
    }
   },
   "source": [
    "## 4. Numerical Computation"
   ]
  },
  {
   "cell_type": "markdown",
   "metadata": {
    "slideshow": {
     "slide_type": "subslide"
    }
   },
   "source": [
    "Iteratiiviset koneoppimisprosessit, joissa esimerkiksi mallin sisäisiä kertoimia päivitetään koulutusdatalla, teettävät tietokoneilla normaalisti suuret määrät laskentaa. Optimointi ja lineaaristen ongelmien ratkaisut lukeutuvat niihin. Vaikka koneilla laskiessa tulisi etenkin reaalilukujen kanssa pitää mielessä mahdolliset ali- ja ylivuoto-ongelmat (*underflow, overflow*), ei normaalitilanteessa tähän ole tarvetta. "
   ]
  },
  {
   "cell_type": "markdown",
   "metadata": {
    "slideshow": {
     "slide_type": "subslide"
    }
   },
   "source": [
    "Koneoppimisen eri työkaluille on olemassa jo laajalti kirjastoja, jotka hoitavat lukujen käsittelyn stabiilisti. Merkittävämmän ongelman muodostavat liian nopeasti vaihtelevat funktiot, jotka reagoivat vahvasti jo desimaalien muutoksiin syöteluvuissa. Tällöin varmasti tapahtuvat pyöristysvirheet vaikuttavat lopputulokseen liiaksi."
   ]
  },
  {
   "cell_type": "markdown",
   "metadata": {
    "slideshow": {
     "slide_type": "subslide"
    }
   },
   "source": [
    "Syväoppivat algoritmit pyrkivät usein joko minimoimaan tai maksimoimaan eli *optimoimaan* funktion $f(\\text{x})$. Tätä funktiota kutsutaan useilla eri nimillä, kuten *objective function*, *criterion*, *loss function*, *cost function* tai *error function* - joka tapauksessa kyseessä on funktio, joka laskee esimerkiksi virhettä mallin tuottamien tulosten ja todellisten vertailuarvojen välillä. "
   ]
  },
  {
   "cell_type": "markdown",
   "metadata": {
    "slideshow": {
     "slide_type": "subslide"
    }
   },
   "source": [
    "Virhe- ja kohdefunktiolla annetaan kirjassa eri merkitykset. Virhefunktio käsittää vain sen funktion, joka laskee mallin tuloksen ja kohdearvon erotuksen. Kohdefunktio käsittää tämän virheen lisäksi regularisoinnin mallin parametrien suhteen. Virhefunktio toisin sanoen sisältyy kohdefunktioon, mutta kohdefunktio koostuu perinteisesti virhefunktiosta, mallin parametreista ja regularisointimenetelmästä."
   ]
  },
  {
   "cell_type": "markdown",
   "metadata": {
    "slideshow": {
     "slide_type": "subslide"
    }
   },
   "source": [
    "Kirjassa käytetään merkintää $x^*$ tarkoittamaan sellaista syötteen tai syötteiden arvoa, joka minimoi tai maksimoi optimoitavan kohdefunktion. Optimoinnissa hyödynnetään derivaattoja, joiden avulla saadaan selville funktion korjaussuunta - mihin suuntaan funktiota on korjattava, jotta virhe on ensi kierroksella hieman pienempi. "
   ]
  },
  {
   "cell_type": "markdown",
   "metadata": {
    "slideshow": {
     "slide_type": "slide"
    }
   },
   "source": [
    "### Gradient Descent"
   ]
  },
  {
   "cell_type": "markdown",
   "metadata": {
    "slideshow": {
     "slide_type": "subslide"
    }
   },
   "source": [
    "Tätä prosessia kutsutaan nimellä *gradient descent*, joka voidaan suomentaa vapaasti [kulmakertoimen] kaltevuuden pienennykseksi. Tavallisesti siitä käytetään suomenkielisessäkin tekstissä nimeä gradientti. Sitä hyödyntämällä voidaan löytää paikallisia minimejä, maksimeja tai satulapisteitä eli niin sanottuja kriittisiä pisteitä. Absoluuttisesti pienimmän arvon saavaa kohtaa kutsutaan globaaliksi minimiksi. Funktiosta riippuen näitä pisteitä voi olla joko yksi useampi, mutta niillä kaikilla on yhteinen pienin arvo suhteessa optimoitavan funktion arvojoukkoon."
   ]
  },
  {
   "cell_type": "markdown",
   "metadata": {
    "slideshow": {
     "slide_type": "subslide"
    }
   },
   "source": [
    "Monisyötteisessä (*multiple input*) datassa hyödynnetään osaderivaattoja (*partial derivative*). Esimerkiksi osaderivaatta \n",
    "\n",
    "$$ \\frac{\\delta}{\\delta_{x_i}}f(x) $$\n",
    "\n",
    "kertoo, kuinka paljon funktio $f$ muuttuu, kun vain muuttuja $x_i$ muuttuu pisteessä $x$. Piste $x$ joka voi hyvin olla esimerkiksi moniulotteinen vektori, jolloin muuttuja $x_i$ olisi esimerkiksi yksi tämän vektorin alkioista. Yleisestettynä tätä kutsutaan gradientin ottamiseksi jostain suhteessa johonkin toiseen, esimerkin tapauksessa muuttujasta $x_i$ suhteessa funktioon $f$. Kun koko funktiosta otetaan gradientti, saadaan tulokseksi gradienttivektori, joka pitää sisällään kunkin syötteen alkioon liittyvän gradientin."
   ]
  },
  {
   "cell_type": "markdown",
   "metadata": {
    "slideshow": {
     "slide_type": "subslide"
    }
   },
   "source": [
    "*Gradient descent* -algoritmin tavoitteena on etsiä kaikkein nopeiten funktiota pienentävä suunta. Siksi se tunnetaan myös nimellä jyrkimmän laskun metodi (*method of steepest descent*). Käytännössä jyrkin lasku löytyy suunnasta, joka on täysin vastakkainen gradienttivektorille $\\Delta_x f(x)$. Siirtymällä askel askeleelta tähän suuntaan, päästään kohti metodin maalia, jolloin kaikki yksittäiset gradientit saavat arvon 0. Jotta oppimisesta ei kuitenkaan tulisi harppauksen omaista, otetaan mukaan myös oppimisen nopeuttava säätelevä suure $\\epsilon$, oppimiskerroin (*learning rate*). "
   ]
  },
  {
   "cell_type": "markdown",
   "metadata": {
    "slideshow": {
     "slide_type": "subslide"
    }
   },
   "source": [
    "Tällöin *gradient descentin* kaavaksi voidaan kirjoittaa yksinkertaistettuna\n",
    "\n",
    "$$ x' = x - \\epsilon \\Delta_x f(x),$$\n",
    "\n",
    "jossa $x'$ on aina uusi piste ja $\\epsilon$ on oppimiskerroin. Oppimiskerroin $\\epsilon$ voidaan asettaa kiinteäksi, kuten usein tehdäänkin, mutta sitä voidaan myös koittaa optimoida tilannekohtaisesti."
   ]
  },
  {
   "cell_type": "markdown",
   "metadata": {
    "slideshow": {
     "slide_type": "subslide"
    }
   },
   "source": [
    "Kun gradientit on jokaisen mallin koulutettavan parametrin osalta saatu nollaan, voidaan todeta mallin löytäneen vähintäänkin lokaalisti datantuottoprosessia mallintavan parametrien konfiguraation. Kun gradientteja löytyy, on mallia toisinsanoen edelleen koulutettava, sillä koulutuksessa on tällöin virhettä, joihin mallin parametrit kontribuoivat."
   ]
  },
  {
   "cell_type": "markdown",
   "metadata": {
    "slideshow": {
     "slide_type": "slide"
    }
   },
   "source": [
    "### Gradient Descentin laajennokset"
   ]
  },
  {
   "cell_type": "markdown",
   "metadata": {
    "slideshow": {
     "slide_type": "subslide"
    }
   },
   "source": [
    "Jacobin matriisi (*Jacobian matrix*) on sellainen matriisi, kun halutaan selvittää mallin parametrien kulmakertoimet suhteessa virheeseen. Tarkentaen sitä tarvitaan, kun funktion $f: \\mathbb{R}^m \\to \\mathbb{R}^n$ (syöte ja tuote ovat vektoreita) kaikki osaderivaatat tarvitsee selvittää. Joskus on myös tarpeen selvittää osaderivaattojen toiset derivaatat, jotta voidaan paremmin ymmärtää tehtävän muutoksen todellisia seurauksia. Tällöin ollaan tekemisissä Hessen matriisin (*Hessian matrix*) kanssa, johon talletetaan kaikkien mallin parametrien toisen asteen osaderivaatat eli kulmakertoimien kehityssuunnat. Ennenkaikkea tämän kaiken tarkoituksena on taata, että esimerkiksi koneoppimismallin kouluttamisen yhteydessä tehtävät asteittaiset muutokset pysyvät *aiotun* kokoisina eivätkä joko vaimene täysin tai karkaa käsistä."
   ]
  },
  {
   "cell_type": "markdown",
   "metadata": {
    "slideshow": {
     "slide_type": "subslide"
    }
   },
   "source": [
    "Pelkällä osaderivaatalla ei aina saada suoraa selvyyttä siitä, kuinka vahvasti *gradient descentillä* tehdyt muutokset vaikuttavat lopullisesti. Tällöin toiset derivaatat auttavat. Mikäli funktion käyryys tai kiihtyvyys on jotain muuta kuin suoraa, siihen tehdyt muutokset joko vahvistuvat tai vaimenevat. Tämä pitää ottaa huomioon korjaamalla käyryyden vaikutus."
   ]
  },
  {
   "cell_type": "markdown",
   "metadata": {
    "slideshow": {
     "slide_type": "subslide"
    }
   },
   "source": [
    "Toisella derivaatalla saadaan myös selville, että onko kohdattu kriittinen piste vain paikallinen arvo. Tällä on erityisesti merkitystä funktion minimoimisessa. Kun funktion kulmakerroin on 0 mutta se kaartuu tällaisessa pisteessa alaspäin, ollaan paikallisessa maksimissa. Ylöspäin kaartuessa ollaan taas paikallisessa minimissä. Tämäkään ei kuitenkaan ole vielä täydellinen testi, sillä käyryyden puuttuessa kriittinen piste voi hyvinkin olla myös vain satulapiste, josta voidaan edetä joko kohti uutta paikallista maksimia tai yhtäläisesti paikallista minimiä."
   ]
  },
  {
   "cell_type": "markdown",
   "metadata": {
    "slideshow": {
     "slide_type": "subslide"
    }
   },
   "source": [
    "Yksinkertaistaen voidaan myös todeta, että mikäli funktion käyryydet ovat eri suuntiin kovin poikkeavat, perinteinen *gradient descent* ei toimi optimaalisesti. Mikäli funktio muodostaa ikäänkuin korkeaseinäisen kanjonin, jonka matalin piste on löydettävissä kulkien sen pohjaa pitkin, *gradient descent* pyrkii löytämään jyrkimmän laskun suunnan ja päätyy näin poukkoilemaan kanjonin seinältä toiselle edeten tuskaisen epäoptimaalisesti. Tätä varten hyödynnetään mm. Newtonin methodia, joka on kirjassa avattu tarkemmin."
   ]
  },
  {
   "cell_type": "markdown",
   "metadata": {
    "slideshow": {
     "slide_type": "subslide"
    }
   },
   "source": [
    "Ensimmäistä derivaattaa eli Jacobin matriisia hyödyntäviä optimointialgoritmeja kutsutaan ensimmäisen asteen optimointialgoritmeiksi (*first-order optimization algorithm*). Hessen matriiseja, eli toista derivaattaa hyödyntäviä optimointialgoritmeja kutsutaan vastavuoroisesti toisen asteen optimointialgoritmeiksi (*second-order ...*). Tavallista kuitenkin on, että optimointialgoritmeja kehitetään joko spesifiin tarpeeseen sopiviksi (esim. selkeät ja rajatut ongelmat) tai sitten niiden käyttö ei ole mitenkään suoraviivaista (esim. syväoppiminen ja funktioiden kokonaisuuden monimutkaisuus)."
   ]
  },
  {
   "cell_type": "markdown",
   "metadata": {
    "slideshow": {
     "slide_type": "subslide"
    }
   },
   "source": [
    "Optimointimenetelmiä on siis useita. Mainittujen funktioiden rajaamisen Lipschitzin vakiolla (*Lipschitz constant*) ja kuperan optimoinnin (*convex optimization*) esitellään myös rajattu optimointi (*constrained optimization*), jossa kaikkein mahdollisten arvojen sijasta funktio pyritään optimoimaan vain rajatulle joukolle."
   ]
  }
 ],
 "metadata": {
  "celltoolbar": "Slideshow",
  "hide_input": false,
  "kernelspec": {
   "display_name": "Python 3",
   "language": "python",
   "name": "python3"
  },
  "language_info": {
   "codemirror_mode": {
    "name": "ipython",
    "version": 3
   },
   "file_extension": ".py",
   "mimetype": "text/x-python",
   "name": "python",
   "nbconvert_exporter": "python",
   "pygments_lexer": "ipython3",
   "version": "3.6.5"
  },
  "toc": {
   "nav_menu": {},
   "number_sections": false,
   "sideBar": true,
   "skip_h1_title": true,
   "title_cell": "Table of Contents",
   "title_sidebar": "Contents",
   "toc_cell": true,
   "toc_position": {},
   "toc_section_display": true,
   "toc_window_display": false
  }
 },
 "nbformat": 4,
 "nbformat_minor": 2
}
