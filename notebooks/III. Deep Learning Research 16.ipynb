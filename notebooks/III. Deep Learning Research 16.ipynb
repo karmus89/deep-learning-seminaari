{
 "cells": [
  {
   "cell_type": "markdown",
   "metadata": {
    "slideshow": {
     "slide_type": "slide"
    }
   },
   "source": [
    "*Created by Petteri Nevavuori.*\n",
    "\n",
    "---\n",
    "\n",
    "# Deep Learning seminaari\n",
    "\n",
    "Kirjana Goodfellow et al.: Deep Learning (2016)\n",
    "\n",
    "Otsikot seuraavat pääotsikoiden tasolla kirjaa, mutta alaotsikot eivät aina."
   ]
  },
  {
   "cell_type": "markdown",
   "metadata": {
    "slideshow": {
     "slide_type": "slide"
    },
    "toc": true
   },
   "source": [
    "<h1>Table of Contents<span class=\"tocSkip\"></span></h1>\n",
    "<div class=\"toc\"><ul class=\"toc-item\"><li><span><a href=\"#16.-Structured-Probabilistic-Models-for-Deep-Learning\" data-toc-modified-id=\"16.-Structured-Probabilistic-Models-for-Deep-Learning-1\">16. Structured Probabilistic Models for Deep Learning</a></span><ul class=\"toc-item\"><li><span><a href=\"#16.1-The-Challenge-of-Unstructured-Modeling\" data-toc-modified-id=\"16.1-The-Challenge-of-Unstructured-Modeling-1.1\">16.1 The Challenge of Unstructured Modeling</a></span></li><li><span><a href=\"#16.2-Using-Graphs-to-Describe-Model-Structure\" data-toc-modified-id=\"16.2-Using-Graphs-to-Describe-Model-Structure-1.2\">16.2 Using Graphs to Describe Model Structure</a></span><ul class=\"toc-item\"><li><span><a href=\"#Directed-Models\" data-toc-modified-id=\"Directed-Models-1.2.1\">Directed Models</a></span></li></ul></li></ul></li></ul></div>"
   ]
  },
  {
   "cell_type": "markdown",
   "metadata": {
    "slideshow": {
     "slide_type": "slide"
    }
   },
   "source": [
    "## 16. Structured Probabilistic Models for Deep Learning"
   ]
  },
  {
   "cell_type": "markdown",
   "metadata": {
    "slideshow": {
     "slide_type": "fragment"
    }
   },
   "source": [
    "Syväoppivien menetelmien kehittämisessä hyödynnetään monia kurinalaisia mallintamistapoja, joista eräs on rakenteellisten todennäköisyysmallien (*structuder probabilistic models*) idea. Se on monien viimeaikaisten syviin menetelmiin kohdistuvien pääkomponenttina. Siksi tässä kappaleessa keskitytään pelkästään niihin."
   ]
  },
  {
   "cell_type": "markdown",
   "metadata": {
    "slideshow": {
     "slide_type": "subslide"
    }
   },
   "source": [
    "Rakenteelliset todennäköisyysmallit ovat graafimaisia malleja, joissa mallin tuottama jakauma voidaan hajottaa osiinsa ja osien välisiä vuorovaikutussuhteita on mahdollista myös tarkastella. Kootusti näitä malleja kutsutaan graafisiksi (*graphical*) ja niihin keskittyvä tutkimusyhteisö onkin tuottanut kirjavan kattauksen malleja ja algoritmeja. Syväoppivien menetelmien kanssa graafisten mallien käyttö eroaa muista käyttökohteista."
   ]
  },
  {
   "cell_type": "markdown",
   "metadata": {
    "slideshow": {
     "slide_type": "slide"
    }
   },
   "source": [
    "### 16.1 The Challenge of Unstructured Modeling"
   ]
  },
  {
   "cell_type": "markdown",
   "metadata": {
    "slideshow": {
     "slide_type": "fragment"
    }
   },
   "source": [
    "Syväoppivien menetelmien koulutuksen tavoitteena on korkeadimensioisen ja rikasrakenteisen datan ymmärtäminen. Perinteisessä luokittelussa menetetään paljon informaatiota, kun vaikkapa rikasrakenteisista kuvista tuotetaan vain yksi luokka. Samoin tunnistetun luokan ohella kuvan muu sisältö jää huomiotta. Todennäköisyysmalleilla kyetään saavuttamaan rikkaampia tuloksia, joskin kompleksimman koulutuksen kustannuksella."
   ]
  },
  {
   "cell_type": "markdown",
   "metadata": {
    "slideshow": {
     "slide_type": "subslide"
    }
   },
   "source": [
    "Rikkaampia tuloksia tuottavia koneoppimistehtäviä ovat ainakin:\n",
    "\n",
    " - **Jakauman ennustaminen** (*density estimation*): Tehtävän tavoitteena on tuottaa täydellinen datantuottojakauma $p(x)$.\n",
    " - **Kohinan poisto** (*denoising*): Korruptoituneista syötteistä $\\tilde{x}$ pyritään löytämään alkuperäinen datantuottojakauma. Tätä voi olla mm. vanhojen valokuvien restaurointi.\n",
    " - **Puuttuvien arvojen paikkaus** (*missing value imputation*): Näytedatojen $x$ perusteella pyritään muodostamaan koko näyteavaruuden kattava jakauma, mikä on mahdollista vain koko datantuottoprosessin opettelulla.\n",
    " - **Näytteistys** (*sampling*): Mallilla tuotetaan datantuottoprosessin mukaisia uusia näytteitä.\n",
    " \n",
    "Esimerkiksi näytteistyksen kohdalla kyse etenkin generatiivisista malleista, joilla pyritään tuottamaan koulutuksen näytekuvia vastaavia kuvia."
   ]
  },
  {
   "cell_type": "markdown",
   "metadata": {
    "slideshow": {
     "slide_type": "subslide"
    }
   },
   "source": [
    "Kuvat ovatkin hyvä esimerkki rikkaista jakaumista. Yhdessä $32 \\times 32$ värivalokuvassa on yhteensä $32 \\times 32 \\times 3 = 3072$ mahdollista muuttujaa eli pikseliä. Mikäli jokainen pikseli voisi saada vain joko-tai-arvon, olisi mahdollisia arvoja 2^3072, mikä on mahdoton mallinnettava luku. Perinteinen lähestymistapa, jossa jokaiselle muuttujalle ja sen arvolle lasketaan myös oma todennäköisyytensä, on näin suurissa muuttujamärrissä muistin kannalta mahdoton toteuttaa. Muita rajoittavia tekijöitä on koulutusdatan vähyys ja siitä seuraava tilastollisen merkitsevyyden heikkous sekä laskennan kustannukset."
   ]
  },
  {
   "cell_type": "markdown",
   "metadata": {
    "slideshow": {
     "slide_type": "fragment"
    }
   },
   "source": [
    "Todellisuudessa mallinnettavan ongelman muuttujat ovat usein toisistaan riippuvaisia vain välillisesti. Vain osa muuttujien välisistä suhteista on välittömiä ja täten merkittäviä mallinnuksen kannalta. Kun mallinnuksella pyritään tavoittamaan vain nämä välittömät yhteydet, pienenee mallin opittavien parametrien määrä huomattavasti ja mallinnuksesta tulee mielekästä. Todennäköisyysmalleilla pyritään tähän."
   ]
  },
  {
   "cell_type": "markdown",
   "metadata": {
    "slideshow": {
     "slide_type": "slide"
    }
   },
   "source": [
    "### 16.2 Using Graphs to Describe Model Structure"
   ]
  },
  {
   "cell_type": "markdown",
   "metadata": {
    "slideshow": {
     "slide_type": "fragment"
    }
   },
   "source": [
    "Kuten sanottua, todennäköisyysmallit hyödyntävät graafeja eli solmuja ja kaaria mallinnettavan kohteen muuttujien välittömien suhteiden mallintamisessa. Graafeilla voidaan todennäköisyyksiä mallintaa useammilla tavoilla."
   ]
  },
  {
   "cell_type": "markdown",
   "metadata": {
    "slideshow": {
     "slide_type": "subslide"
    }
   },
   "source": [
    "#### Directed Models"
   ]
  },
  {
   "cell_type": "markdown",
   "metadata": {
    "slideshow": {
     "slide_type": "fragment"
    }
   },
   "source": [
    "Ensimmäinen näistä tavoista on suunnattujen graafimallien (*directed graphical models*) käyttö, jotka tunnetaan myös uskomusverkko (*belief network*) tai Bayesilainen verkko (*Bayesian network*). Nimensä mukaisesti mallien kaaret ovat suunnattuja, jolloin ne muodostavat vaikutussuhteita muuttujien todennäköisyysjakaumien välille. Kaarien lähtömuuttujien arvot vaikuttavat kohdemuuttujien todennäköisyysjakaumaan."
   ]
  },
  {
   "cell_type": "markdown",
   "metadata": {
    "slideshow": {
     "slide_type": "fragment"
    }
   },
   "source": [
    "<img src=\"data:image/png;base64,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\" style=\"max-width:100%;\" />"
   ]
  },
  {
   "cell_type": "markdown",
   "metadata": {
    "slideshow": {
     "slide_type": "fragment"
    }
   },
   "source": [
    "Yllä olevassa graafissa **välittömät** suunnatut riippuvuudet ovat $(t_0,t_1)$ ja $(t_1,t_2)$. Vaikka $t_2$ riippuukin välillisesti muuttujasta $t_0$, vain välittömät riippuvuudet mallinetaan. Näiden muuttujien todennäköisyys voidaan ilmaista kaavalla \n",
    "\n",
    "$$p(t_0,t_1,t_2)=p(t_0)p(t_1 \\mid t_0)p(t_2 \\mid t_1).$$"
   ]
  },
  {
   "cell_type": "code",
   "execution_count": null,
   "metadata": {},
   "outputs": [],
   "source": []
  }
 ],
 "metadata": {
  "celltoolbar": "Slideshow",
  "hide_input": false,
  "kernelspec": {
   "display_name": "Python 3",
   "language": "python",
   "name": "python3"
  },
  "language_info": {
   "codemirror_mode": {
    "name": "ipython",
    "version": 3
   },
   "file_extension": ".py",
   "mimetype": "text/x-python",
   "name": "python",
   "nbconvert_exporter": "python",
   "pygments_lexer": "ipython3",
   "version": "3.6.4"
  },
  "toc": {
   "nav_menu": {},
   "number_sections": false,
   "sideBar": true,
   "skip_h1_title": true,
   "title_cell": "Table of Contents",
   "title_sidebar": "Contents",
   "toc_cell": true,
   "toc_position": {
    "height": "calc(100% - 180px)",
    "left": "10px",
    "top": "150px",
    "width": "318px"
   },
   "toc_section_display": true,
   "toc_window_display": false
  }
 },
 "nbformat": 4,
 "nbformat_minor": 2
}
