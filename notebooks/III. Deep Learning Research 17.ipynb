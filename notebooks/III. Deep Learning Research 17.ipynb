{
 "cells": [
  {
   "cell_type": "markdown",
   "metadata": {
    "slideshow": {
     "slide_type": "slide"
    }
   },
   "source": [
    "*Created by Petteri Nevavuori.*\n",
    "\n",
    "---\n",
    "\n",
    "# Deep Learning seminaari\n",
    "\n",
    "Kirjana Goodfellow et al.: Deep Learning (2016)\n",
    "\n",
    "Otsikot seuraavat pääotsikoiden tasolla kirjaa, mutta alaotsikot eivät aina."
   ]
  },
  {
   "cell_type": "markdown",
   "metadata": {
    "slideshow": {
     "slide_type": "slide"
    },
    "toc": true
   },
   "source": [
    "<h1>Table of Contents<span class=\"tocSkip\"></span></h1>\n",
    "<div class=\"toc\"><ul class=\"toc-item\"><li><span><a href=\"#17.-Monte-Carlo-Methods\" data-toc-modified-id=\"17.-Monte-Carlo-Methods-1\">17. Monte Carlo Methods</a></span><ul class=\"toc-item\"><li><span><a href=\"#17.1-Sampling-and-Monte-Carlo-Methods\" data-toc-modified-id=\"17.1-Sampling-and-Monte-Carlo-Methods-1.1\">17.1 Sampling and Monte Carlo Methods</a></span><ul class=\"toc-item\"><li><span><a href=\"#Why-Sampling?\" data-toc-modified-id=\"Why-Sampling?-1.1.1\">Why Sampling?</a></span></li></ul></li></ul></li></ul></div>"
   ]
  },
  {
   "cell_type": "markdown",
   "metadata": {
    "slideshow": {
     "slide_type": "slide"
    }
   },
   "source": [
    "## 17. Monte Carlo Methods"
   ]
  },
  {
   "cell_type": "markdown",
   "metadata": {
    "slideshow": {
     "slide_type": "fragment"
    }
   },
   "source": [
    "Satunnaisalgoritmit jaetaan kahteen kategoriaan: Tarkan vastauksen palauttaviin Las Vegas -algoritmiin ja satunnaisen määrän virhettä sisältäviin Monte Carlo -algoritmiin. Koneoppimisessa käytetyt deterministiset likiarvoalgoritmit ovat luonteeltaan jälkimmäisiä, sillä tarkkoja vastauksia ei useinkaan voida saada - molemmat algoritmit ovat kuitenkin vahvasti edustettuja koneoppimisen kentässä."
   ]
  },
  {
   "cell_type": "markdown",
   "metadata": {
    "slideshow": {
     "slide_type": "slide"
    }
   },
   "source": [
    "### 17.1 Sampling and Monte Carlo Methods"
   ]
  },
  {
   "cell_type": "markdown",
   "metadata": {
    "slideshow": {
     "slide_type": "fragment"
    }
   },
   "source": [
    "Koneoppimisen tehtävät liittyvät usein Monte Carlo -ennusteen muodostamiseen opitusta todennäköisyysjakaumasta nostetuilla näytteillä."
   ]
  },
  {
   "cell_type": "markdown",
   "metadata": {},
   "source": [
    "#### Why Sampling?"
   ]
  },
  {
   "cell_type": "code",
   "execution_count": null,
   "metadata": {
    "collapsed": true
   },
   "outputs": [],
   "source": []
  }
 ],
 "metadata": {
  "celltoolbar": "Slideshow",
  "hide_input": false,
  "kernelspec": {
   "display_name": "Python 3",
   "language": "python",
   "name": "python3"
  },
  "language_info": {
   "codemirror_mode": {
    "name": "ipython",
    "version": 3
   },
   "file_extension": ".py",
   "mimetype": "text/x-python",
   "name": "python",
   "nbconvert_exporter": "python",
   "pygments_lexer": "ipython3",
   "version": "3.6.3"
  },
  "toc": {
   "nav_menu": {},
   "number_sections": false,
   "sideBar": true,
   "skip_h1_title": true,
   "title_cell": "Table of Contents",
   "title_sidebar": "Contents",
   "toc_cell": true,
   "toc_position": {
    "height": "calc(100% - 180px)",
    "left": "10px",
    "top": "150px",
    "width": "318px"
   },
   "toc_section_display": true,
   "toc_window_display": true
  }
 },
 "nbformat": 4,
 "nbformat_minor": 2
}
