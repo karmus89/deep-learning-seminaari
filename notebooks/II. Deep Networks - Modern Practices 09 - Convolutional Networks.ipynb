{
 "cells": [
  {
   "cell_type": "markdown",
   "metadata": {
    "slideshow": {
     "slide_type": "slide"
    }
   },
   "source": [
    "*Created by Petteri Nevavuori.*\n",
    "\n",
    "---\n",
    "\n",
    "# Deep Learning seminaari\n",
    "\n",
    "Kirjana Goodfellow et al.: Deep Learning (2016)\n",
    "\n",
    "Otsikot seuraavat pääotsikoiden tasolla kirjaa, mutta alaotsikot eivät aina."
   ]
  },
  {
   "cell_type": "markdown",
   "metadata": {
    "slideshow": {
     "slide_type": "slide"
    },
    "toc": true
   },
   "source": [
    "<h1>Table of Contents<span class=\"tocSkip\"></span></h1>\n",
    "<div class=\"toc\"><ul class=\"toc-item\"><li><span><a href=\"#9.-Convolutional-Networks\" data-toc-modified-id=\"9.-Convolutional-Networks-1\">9. Convolutional Networks</a></span><ul class=\"toc-item\"><li><span><a href=\"#9.1.-The-Convolution-Operation\" data-toc-modified-id=\"9.1.-The-Convolution-Operation-1.1\">9.1. The Convolution Operation</a></span></li><li><span><a href=\"#9.2-Motivation\" data-toc-modified-id=\"9.2-Motivation-1.2\">9.2 Motivation</a></span><ul class=\"toc-item\"><li><span><a href=\"#Sparse-interactions\" data-toc-modified-id=\"Sparse-interactions-1.2.1\">Sparse interactions</a></span></li><li><span><a href=\"#Parameter-sharing\" data-toc-modified-id=\"Parameter-sharing-1.2.2\">Parameter sharing</a></span></li><li><span><a href=\"#Equivariance\" data-toc-modified-id=\"Equivariance-1.2.3\">Equivariance</a></span></li></ul></li><li><span><a href=\"#9.3-Pooling\" data-toc-modified-id=\"9.3-Pooling-1.3\">9.3 Pooling</a></span></li><li><span><a href=\"#9.4-Convolution-and-Pooling-as-an-Infinitely-Strong-Prior\" data-toc-modified-id=\"9.4-Convolution-and-Pooling-as-an-Infinitely-Strong-Prior-1.4\">9.4 Convolution and Pooling as an Infinitely Strong Prior</a></span></li><li><span><a href=\"#9.5-Variants-of-the-Basic-Convolution-Function\" data-toc-modified-id=\"9.5-Variants-of-the-Basic-Convolution-Function-1.5\">9.5 Variants of the Basic Convolution Function</a></span><ul class=\"toc-item\"><li><span><a href=\"#Stride\" data-toc-modified-id=\"Stride-1.5.1\">Stride</a></span></li><li><span><a href=\"#Padding\" data-toc-modified-id=\"Padding-1.5.2\">Padding</a></span></li><li><span><a href=\"#Unshared-Convolution\" data-toc-modified-id=\"Unshared-Convolution-1.5.3\">Unshared Convolution</a></span></li><li><span><a href=\"#Training\" data-toc-modified-id=\"Training-1.5.4\">Training</a></span></li></ul></li><li><span><a href=\"#9.6-Structured-Outputs\" data-toc-modified-id=\"9.6-Structured-Outputs-1.6\">9.6 Structured Outputs</a></span></li><li><span><a href=\"#9.7-Data-Types\" data-toc-modified-id=\"9.7-Data-Types-1.7\">9.7 Data Types</a></span></li><li><span><a href=\"#9.8-Efficient-Convolution-Algorithms\" data-toc-modified-id=\"9.8-Efficient-Convolution-Algorithms-1.8\">9.8 Efficient Convolution Algorithms</a></span></li><li><span><a href=\"#9.9-Random-or-Unsupervised-Features\" data-toc-modified-id=\"9.9-Random-or-Unsupervised-Features-1.9\">9.9 Random or Unsupervised Features</a></span></li><li><span><a href=\"#9.10-Neuroscientific-Basis-for-Convolutional-Networks\" data-toc-modified-id=\"9.10-Neuroscientific-Basis-for-Convolutional-Networks-1.10\">9.10 Neuroscientific Basis for Convolutional Networks</a></span></li><li><span><a href=\"#9.11-Convolutional-Neural-Networks-and-the-History-of-Deep-Learning\" data-toc-modified-id=\"9.11-Convolutional-Neural-Networks-and-the-History-of-Deep-Learning-1.11\">9.11 Convolutional Neural Networks and the History of Deep Learning</a></span></li></ul></li></ul></div>"
   ]
  },
  {
   "cell_type": "markdown",
   "metadata": {
    "slideshow": {
     "slide_type": "slide"
    }
   },
   "source": [
    "## 9. Convolutional Networks"
   ]
  },
  {
   "cell_type": "markdown",
   "metadata": {
    "slideshow": {
     "slide_type": "fragment"
    }
   },
   "source": [
    "Konvoluutioverkot (*convolutional networks, convolutional neural networks, CNN*) ovat ennenkaikkea tasomuotoisen datan käsittelyyn erikoistuneita verkkoja. Perinteisimmin konvoluutioverkkoja käytetään kuvien kanssa, mutta niitä voidaan käyttää myös useasta rivistä muodostuvan aikasarjadatan kanssa. Koska konvoluutioverkkojen kehitys on niin nopeasti etenevää tällä hetkellä, esitellään kirjassa konvoluutioverkkojen merkittävimmät komponentit. Samoin esitellään niitä verkkoihin liittyviä yksityiskohtia, joilla parhaiten menestyviä verkkoja on kehitetty."
   ]
  },
  {
   "cell_type": "markdown",
   "metadata": {
    "slideshow": {
     "slide_type": "slide"
    }
   },
   "source": [
    "### 9.1. The Convolution Operation"
   ]
  },
  {
   "cell_type": "markdown",
   "metadata": {
    "slideshow": {
     "slide_type": "fragment"
    }
   },
   "source": [
    "Yleisimmillään konvoluuutiolla tarkoitetaan kahdelle reaaliluvun vastaanottavalle funktiolle tehtävää operaatiota. Yksinkertainen esimerkki tästä on kohinainen funktio $f(x)$ ja liukuvan ikkunan keskiarvon funktio $g(x)$. Yhdessä nämä tuottavat funktion\n",
    "\n",
    "$$ s(x) = (f * g)(x),$$\n",
    "\n",
    "joka tasoittaa kohinaa. Tätä kutsutaan konvoluutioksi. Matemaattisesti konvoluution funktioiden on oltava vaihdannaisia siten, että $(f * g)(x)=(g * f)(x)$."
   ]
  },
  {
   "cell_type": "markdown",
   "metadata": {
    "slideshow": {
     "slide_type": "subslide"
    }
   },
   "source": [
    "Konvoluutioverkkojen tapauksessa konvoluutio tehdään syötteitä (*input*) ja kerneleitä (*kernel, filter*) käsittelevien funktioiden kanssa. Kernelit ovat koulutuksen aikana opittavia parametritaulukoita, joiden avulla syötteistä tuotetaan piirrekarttoja. Tämä mahdollistaa mm. kuvien käsittelyn, sillä kerneleitä voidaan käyttää yksi- tai moniulotteiseen syötteeseen - kuva kanavineen käsitellään kernel kerrallaan. Tällöin yksikanavaisen kuvan ja kernelin konvoluutio-operaatio voidaan kirjoittaa kaavana seuraavasti:\n",
    "\n",
    "$$ S(i,j)  = (K*I)(i,j).$$\n"
   ]
  },
  {
   "cell_type": "markdown",
   "metadata": {
    "slideshow": {
     "slide_type": "subslide"
    }
   },
   "source": [
    "Vaikka implementaatiotapoja kyseiselle operaatiolle löytyy joitakin, on usein käytetty implementaatio ristikorrelaatio (*cross-correlation*):\n",
    "\n",
    "$$ S(i,j)  = (I*K)(i,j) = \\sum_m \\sum_n I(i+m,j+n)K(m,n),$$\n",
    "\n",
    "jossa $(i,j)$ on yksi kuvan $I$ pikseli ja $(m,n)$ on kernelin $K$ koko. Konvoluutio tehdään tällöin syötteen $I$ ja kernelin $K$ pistetulona kerneliä vastaavalta alueelta. Pistetulo on matriisien vastaavien alkioiden tulojen summa. Alue määritellään lähtien kuvan pikselistä $(i,j)$ ja kattaen kernelin $K$ kokoinen alue. "
   ]
  },
  {
   "cell_type": "markdown",
   "metadata": {
    "slideshow": {
     "slide_type": "subslide"
    }
   },
   "source": [
    "Alla sama esitetty kuvana:"
   ]
  },
  {
   "cell_type": "markdown",
   "metadata": {
    "slideshow": {
     "slide_type": "fragment"
    }
   },
   "source": [
    "<img src=\"data:image/png;base64,iVBORw0KGgoAAAANSUhEUgAAArMAAADTCAYAAACSjJtoAAAACXBIWXMAAAsTAAALEwEAmpwYAAAGe3pUWHRteEdyYXBoTW9kZWwAAD1W17KzvA59mn2V2RlaKJf03gKh3VFMQg+9PP2Bb5/5Z+zBlrQklyWLH5RttryowW0ewUC/QTv9oNwPgujdUdR1/IMIjzt0+0FIv2izbh1vhnuDoTv0gzK3U4Rj12A7Pwh1o7/fGvggUYvpwqHEHcUvqCq5uvaDsLe6qMBNBGnVXebZEK/34hwKxJ28Ezf2M3QNuJDkHbqjEELdYRi68TVIp6FrTwV8J+6PmxPn8VD8F+Fc7G0Bw1icJv+WTt7R+z8pyIqpG/6E67re/wuI3Kb9C/4UGViK9IyK/KD8D8pmRfwe4uZWZH9qnEKoPEaS3ySFwW8CZeA3pXDsN05JFKLwBIJh8nLYxs3/HVrxG/zCfw6JCM7Sx4gJcnSul3NB5r/CXNaNupViwjwmog5naiu4xNWkLay18jTLX4MtbaoD0JB35GfrJ2tlD9gi/yCMyb3B018+m4ce1nu0EOJwiiL0aE8osR7zbXyTkPFw0hizli7r1x2onTFKJsm4p+snUT1TczokQyo70QTfqgISloi6gS5x9LYSXvS/cfaZUD/mdApnueilc7tgO8pFBawpc32eKuuTrRsJoc3x6F0E6pnJt/NPWeGBBdCTCgx7dgGessCYcZryGghLOr2zMr/Bh6VMtvM0mMOQoeF0miGbYxjOlCJJP2aUNWoDgOEIdfLg1NrWacrkuOi450jQpoSRjsfaEitLHlbpGbs/MKU25A+t4cVdii0QJSekk6lv1ST6WJ0odDCzXXJyZWfsivQTy+qSsS+KQ0NPraNdJxvNG4WtO252iwztlI4cc+vKdqmlDyz0yc2fI9MX1kNNjxCoBzVWM4M9rOkzdxO3DJRJHU3LtgOZoobhMoqdpOt86ohR22h/eeqohOZx0pcgiJogeA/p0LSm2cupFVmSW4QZ1SKVzpvbwy/nprFQvRWy4VOki2/LsLmgnLQHzjunxmQHSTiwxlsnCJzGGYydS5k5d3K2jSa/ElrbJL7pCb2mBGuvT2yTUjEeZWEs0RTZ4mLSn4h/EWK0USwtMhWUdprMobU/1YQMoORRrOmscMkWZKpsbIfAi31vrk9bWXaXzx8O9ryOTgD8x35ZhsEoQK8bS3AodyOt2mo6FxM5T6JFEi+XiiaWK32j5fHdKoQbGCU/57pA7DA5ozplYp8qbJ5Z03zSLA8WzD2gbAZweWY9Q5x9j1CaPyFnfjAUmddSpTppJ4/pEKJFtGxwbqmJtqH22K25YKPHaTdhuJySPnmRjTTfGx8SylRKr2xxUF5iXvFRUFAMDKzLcSXAZNtGmozomAQWArdFuQ+NbbtuKK56BobMV9OkgUKnG4iE7wRhdbqbXh9/3Fh3WNEsrRf6QFjcD6RoLvMgdxUvDOzmIIaUYtftLVCyWm82Tzlfvzem4804uxp/onB5aq+6tyhEc+G8OknP5DuldFtKLdvadwwVMu/KehrpAxpl+xkEzQD5NGOsuF+fCcQMzHt+djw327TMh6OkdSqds6Nnp4VXFfRrs3PYOjAPsurAYl52v3qflIbCyOGwWqxNqdQsvKLF5WDH0532HK3QbJ5XbvZ8mZi11W00niNe41FQe5FMrhiz1l/+CH0m3dC9SjrvhnmljeZ4OfRofAfooO0lQ/Eu+V7WH/eLDNP+uJ6wkQnKFvZGnls8d0Y7LZ/YdpzUDfjLaS803y8KBOeT8axEKjFYR28TX4CnAiJ6USv3VNSKZziFdTQPjwq77ltIUWWkNQNeE5D9oGKelMzBb+xGvx4adKgYLKUO+Mu8pHQfO9tWcj819thwVsxWlcXJDPwpKDvCNEZDjil3tByoNifkNm3kurM8MKMcY+j70TkpsA6HQGRIys1KCKMjn8Rrm7Y6EPDyMBd8mQQyfmOutl/Auss3ljSvh73J+uZ70bjdBu6gWfp18oWoGNk7wlA2MfrDTbhCsRGzcc6UvcWCG2ksnxBqH5VGOA6MF0dtPK5cKni9TyYQP8Id8DqdaXXQ8OQW+sSGMWn0xkOyUF/8ipnOhxdcaXyq72+Ve6atNbNMK/GcR9d1c8IifGqWen/ZisbqruU35qXQR0wXvC/ZkK2WspiE/PpMP8rrHU3ApWGHf9VMz3xLu4m7WYeMTYrpRuzLj+GJiV3b/caJZ3iY5WE5VChCwrh8CvwzHkyKpHZlP21f9fJq7FUF/uruXxG+SPDvr+Sc/g9YTtvSAAAgAElEQVR4nOzdeVxU9f7H8ZepMyQ4iCyKoiNKqKhF4XLVcsulrnXNpZuaWklmYhn4k5TS8qal5vW6leY1yAwzMzRTcsuyQL1uSUKkgAg6iso6bM6MGL8/WMTEsBo4Z+DzfDx8PDpzvnN6f+cwzIfvfM/31CsuLi5GCCGEEEIIG3SX0gGEEEIIIYT4s6SYFUIIIYQQNkuKWSGEEEIIYbOkmBVCCCGEEDZLilkhhBBCCGGzGigdQAghhLgTZ49/T/y5fDRNm+Ll2xNP7Vm+PwF9e3oqHU0IoSApZoUQQqjcWRaO7U/IxtSbHu2shzhCuJLyDq4KJRNCKE+mGQghhFC1yNcmELIxlcEhn3GluJji4ivs/zCIuFSglU7peEIIhcnIrBBCCBUzcGx7NAB+/R8pHYF1pa//fzilMdJhwknOmcDVTsmMQgglycisEEIIm7D9sw0YKmy3Hx/AYA5yLk+xSEIIFZBiVgghhIp50KGPHoC4sKm06uLP1tj00n1+hJ8/ynCZMCtEnSbFrBBCCFUbNmMpw8s24sIYca8bI14L5awJXD2kkhWirqtXXFxcrHQIIYQQ4neZTrNs6vMEhUVXeHA4W5I/ZbinTJgVoi6TYlYIIYTNOHvoE/5vzAS2lq/SNZgd53cz1EPJVEIIJck0AyGEEKplSj/N8dPG8m3PnuPZknKe9yc+WPrIHr4+elaZcEIIVZBiVgghhGrlHVlB1w7LMN70qAcBoauYWLr1Q1R8zQcTQqiGFLN/kMmYTnr6b/8ZMSkdTAghaqHGrR8A5jL9k9jf7HGiWeeS/+rTw6emYwkhVESK2T8knbApA3Bzc7v5X7fpHDZW/WwhhBB/jF3r1jwIhE24l7ELt2IwAqZ0tv5rGgviAIYz7hFPZUMKIRQlF4D9GWc30aXtaOKAgM9O8f5T7ZVOJIQQtdRp/Ot1IGHMGHI2biSuwh794ADWfrCEQbKagRB1mtzO9s9oSPkvVMemTRWNIoQQtVt7FiYn09jTE7tPwzCcTSU734LGoTntPWWNWSGEFLN/TuOmDAb2AGBWNosQQtRyrp5l0wjs8PBsj6zCJYSoSObMCiGEEEIImyXFrBBCCCGEsFlSzAohhBBCCJslxawQQgghhLBZUswKIYQQQgibJcWsEEIIIYSwWbI015+iKf8vLVoFcwgh1OTHEzH8+OMJpWPUGIfGjcnPy1M6Ro2pa/194IH7eeB+X6VjCFElKWb/hPSkJC6W/ve5c+cAWbhbCAFTpk5j6Ji6c0fAyNDTda6/454eo3SMGjNl6jQOH/xB6RhCVEmK2T8knWUjuhG0NbX8kbDnuxL2/HD252yhr6OC0YQQqvBYXSruNp6uc/0dN3a00jFqTPiGjUpHEOKOSDH7h7gSuCWFQKVjCCGEEEIIQC4AE0IIIYQQNkyKWSGEEEIIYbOkmBVCCCGEEDZLilkhhBBCCGGz5AIwIYQQQggbd/b498Sfy0fTtClevj3x1J7l+xPQt6en0tGqnRSzQgghhBA26ywLx/YnZGPqTY921kMcIVxJeafWr4bfIPnsWc6cOat0jttq2LAh165dUzrGbdWvfxfXr/+qdIxKNWhQn6Ki60rHuK0WLdzp5NNR6RhCCCGEzYp8bQIhG1MZHPIZ4e88hSvpfB+6gH7PL4UHdUrHqxENpr0ynU6dfJTOUanLVzLIyMqh7T3qLHgupRkoyMulnbc6Xz9DajKa+qDXt1I6SqWSk1NY9d4yXF1r+9+MQgghRHUwcGx7NAB+/R8pHYF1pa//fzilMdJhwknOmcDVTsmM1a9BekYms16doXSOSu34eidfRu7lmcC5Skep1DfbN3HiwD7V5lvz7mt4Nm/Ci5MnKR2lUs/6v6DqkWMhhBDCVmz/bAMBgwLwKN1uPz6AwRNGci4P/Gp5MSurGQghhBBC2CQPOvTRAxAXNpVWXfzZGpteus+P8PNHGV4HvvyUYlYIIYQQwkYNm7GU4WUbcWGMuNeNEa+FctYErh51oJJFilkhhBBCCJtl5zmcLVdPsXTig+WPbV3wPG3vHsHWsyYFk9UcKWaFEEIIIWyZXXsCQ6NIPrie4fqyB7cyou0wIg1KBqsZUswKIYQQQtggU/ppjp82lm979hzPlpTzvF8+SruHr4+qd/lVa5FiVgghhBDCBuUdWUHXDssw3vSoBwGhq5hYuvVDVHzNB6thUswKIYQQQtigxq0fAOYy/ZPY3+xxolnnkv/q00Oda+FbkxSzQgghhBA2yK51ax4Ewibcy9iFWzEYAVM6W/81jQVxAMMZ94insiFrQAOlAwghhLjVlXgDly318ejgjlMVC56b09JJuGCmqWdzWjr/9td6EdlpBZTfFFyjxc1ZfSuo17X+3sJ8kZiTF9C4eeKjd6mqMUkxJ8nXuNHRR4+2RgIKVXJsjTfAmDHEhoygVciNXfrBAaz9YAk9HZUKV3OkmBVCCJWJDdvAszNj8OoASae6s+7Mk3S5zS3Ws48dZOCjW3Hv4EjaKZi5dwb/9K1QvOUm8+K9a0kq2+4xmG92DMKpujvxB9S1/t4i9yiT2gwhwsMHDPGMXPwta/19b9M4g9BJ3gRHeOCBAcPI5aSsHc9tXi5R67VnYXIyjT09sfs0DMPZVLLzLWgcmtPes26sMQsyzUAIIdQlN5n5M2NYcHIxm6IW8++njxCyMqF8d+LmXby/Oa10y8TmSVsZ9mEIO6Jms3NdexY9F0V2hcOZky9T0OPvfJO+mOPpizmutsKurvW3EgdWBxExLpSsk9FkxYUSEfwS+3NLd5rjmTdtHjHmks3cA6sJjvDnRNZJTmbF4R/xCssPZCiWXSjP1dOTkj/n7PDwbE+XLl3qVCELUswKIYSqmJMvkEQffN1Lttv29oX0q+X7cxOOERabV7JhukyCwZ2HujcFwK1zW9wNeRRWOF5hYQFph79moGswfq7B/Gdzag315M7Utf7eKpdTR+Lxf6xHyWaLLowDsssr9CtsDt9MTmkxmxwbg4f/IEqWEm1B15EepF8pqOnQQqiKTDMQQggVKTTmAA1pWLqtc9ORlm3iSkwCP6dfJzHBCIWpRO01o9GYOQU8qSlt7NQYe66Sa4KWpd+8Z1y4Rv+Jowh63Y/CqG8Y/WwEvYdMp4dKvpeua/2tTN5l0GrKOtUEV59csrJT2B+bgKXgBAYMRO3cgcXegbyURNBqyp/brJmO7CwpZkXdZsVi9iKfzJ7JZyeysGvRh1kLZtKtqjnsCrj8zb/46MJgZj3TU+kot1BvNts4t0LUBk6d2+BFIoWAE5AcnYi7vj2XD//EkvB0OAVwmHWXGtF83EAGeEBGPuAM+QmpJOFM8wpTSFsPeZR/P1n6q35od4axj1RDET181DGWUdf6eysdPj192JFdALiA+TS743W84XiBLS+9xRlK5htsXrma3bTg1cB/wA9lw7YZHP4qHv2KJoqlF0INrDTNwMzWaY/wyqqz9BkxgrYXFzHEe1r5HB81MGca+OXQJlY8M5cDaflKx7mJmrPZwrkVolZpaA8c4svvjUABp2PSaN2yEV0mP8mOqAAWBLrjPmUsoVHTeXtyO5wc0lgdXjLH9OfvEqGfjoYUEPt9MldM8M3LITz2dsn+/JhTbMMdvYeKCru61t9K2LtA+JvruQhkHIomHk/cWvRmRXQ0kftW44MPK/ZFEh29ln76xhjCl7AnA8g4zREDeDRxULoLQijKKu9wc9Ln+IcbWPxtCv6+OhjnxyX3AYR9PY0Vw72s8b/4y+I+9mfykj0A3O4aUaWoOZstnFtRwmRMJ8/y20c1uLo6gslI+m93ahrj6mgDSxbVNbq2vLuuDyNGzScMoN/f2TnZo3y3RWOHPUWlW/aM/Wgc0T3X4rcMwJtVp3rhkJtAyKi1/N+pxfQNGsX6QWX7YdiiKer6yr2u9bcSvQPXEbS9O52bLgXgje1x+Jatt2W+hiOOkAdoQdctkPUBPzDau2TecP83tvOir8o7KEQ1s0oxm2dIAXrSrm3pG0rrgZ8PhB1PBpUUPH7Td3NsOhxf2IW5JqXT3EzN2Wzh3AoAI2FTBjB1Y9xNj+qHL+WnLYEkhU2n69Swm/Y9GLCeHe+Ppw4sQWhz9EMf5+Cp3lzKhuZeTW9aR9QvOIBNFba1XvcRet6LVEMhOg/X0jVavdmRvrikgXMPNqXfx5XUQnDS4aZT3yhlXevvLbRezIlOY0LSeWjSCr1LhVdA14/IrH4VG/PY/EgSJqWSgz1eVa5JK0TtZ5V3uca+MXCI7HwoW+zODOgqTFJXi6KqmyhGjdls6dzWbY4EfBrLk5MX4tavZNXsoC3J/Gd4yZ1f/AJCWX98HxPCUnkw4EM2LvHHQwZlVU3r3BS98x02trNH72X/ew1w06v7hNe1/t5Ki97rzgcIXPR6pIy9M/8N+y+7d++lXr16Ske5RXFxMU5NHcnOMqo2X6eOHeFXVJkPoGPHjtYpZi0WM+CDU4X6Rgvkmm/5zlPYGDm3tsXVtyeDgT10pofvjVsYHg/1Z0JYKoNDtrD7neHKBRRCiBq2e9dehvl74tKskdJRbmG6ep0Vcw4wMbiravN9E56J/8SJODvf6V+bNcdsNrNq1SorjcxqtEAu+eX1TQ7J8TBkVntrHF4oSM6trSk7UU1oWnpNyPfLxtIvaCOD5+5g95tDFUsmhBBKqHdXPVyaNaK5h/oulLtaUEQ9UHm+LJydnXFzc1M6zi1MJhP16tWzzmoGum6DGYmBCW+GkoGZ/R8sIhy4t63a77siqiLn1lY1wqGxia2vDaFf0EaGL9gjhWytUURqTCq/xGdxJ4uKmNPSiT1m4EKmGicy3Ym61l8AM0kxR4mJT72jPl+Mj+FoTDwZssqMqKOsNDPehwW7F3N4SDDeEcEABIRGM95HfVdYqvlSAHVms51zKyrawwuDOhAXnQrDP2TLrEFKBxJWUcDnk+eyaIsj7hhJGzGK79f04HbjOdnHDjLw0a24d3Ak7RTM3DuDf/ra0lzSutZfgAxCJ3kTHOGBBwYMI5eTsnY8t/uNezR0EkOCI/Dxgfj4cexOWUE3+fUs6hir3c7WpZs/J1PiOBIdzZG4FOYP97HWoa3Kb1Ys2+eq84Ndrdls5dyKm8VFl97Gc+vzTN90Wtkw4s8xpfF+4C5+KV3lJP9gFIu29OSr9NnsSJ/NqC1f8PHBG3d/Sty8i/c3p5U9mc2TtjLswxB2RM1m57r2LHouiuxb/y/qUdf6C2COZ960eeVrd+ceWE1whD8nsk5yMisO/4hXWH4go7RxLlvnBbMpPresMUHBEYTGZREdncX6ceH4L9+vRC+EUJTVilkAdC3w8vHBq4X8WVjryLm1MZ1Z8Nl6xpRuLR3dgX/tNSiaSPwZeezccIzc0qnQ52PP4z6xIy0BcOTeEY5kpt/4bjk34RhhsXklG6bLJBjceah7yXqkbp3b4m7Io7BG8/9Rda2/AFfYHL6ZnNJuJcfG4OE/CD0ALeg60oP0KzcK+LilocReKXmBzMmxxBNAjxYl+zr0Hgnpqi/fhbA6dX6zLYT4i5rQc9h4ZiVrON92NNHA3MEP4nrwJwJ6ysqyqmcycnjfRSyFBtIwcmx3LJZGWgpTLoO2fnkzl2aNyM00cyUmgZ/Tr5OYYITCVKL2mtFozJwCnixbicSpMfZcJdcELdX2zXtd6y+A+SL798ZhKTiBAQNRO3dgsXcgLyURKix92KyZjuysbGL2n+aKJZsEoPDwTvbkO6E1pwD2lLVu0qwZhmy13UVSiOonxawQtZQlD/B8ih3HMrmv61RSSWVqrwdpfOoo49ur8dNdlLNksnvhTlJLxxV3rojiBxyZFHgfRF0tbVTAT9vTaLGsEZcPR7MkPB1OARxm3aVGNB83kAEekJEPOEN+QipJONNcjae+rvUXwHyWLQvf4gwlUwY2r1zNblrwauA/4Iey0dUMDn8Vj35FA45vWM5HF43EA2xYw2UcGbdwHD78SAHgApyO2o+HfqAy/RFCQdadZiCEUFjZGE0Ol7JKJh46+gUQvWdB6eNxTOgwjK1nFQkn7pSuLW9ETSd071i8cGfO3gA2RT3N3/R2pG3YR1QmkHmZGAM0d9TSZfKT7IgKYEGgO+5TxhIaNZ23J7fDySGN1eEJAPz8XSL009FQ2Z5Vrq71F0DXmxXR0UTuW40PPqzYF0l09Fr66RtjCF/Cngwg4zRHDODRpDX+ayOJjvyamR4QsPprok9G8uKDrYFQ1u+/CGQQGxPPPR5NFO6YEDVPRmaFqEVOf7uNPQDE8b8jiYxv3wUAj0Gz2D93A/3mxgF7GNF2CJ+dDOepLq4KphVVshThgB0UAHbg0LU//56SSGCHkpVFesyewtgKV+tbNHbYl99L0J6xH40juuda/JYBeLPqVK/brgSgCnWtvwDmazjiCHmAFnTdAlkf8AOjvUvm/vZ/Yzsv+pZdq2ABHWivlU4q1vVm3foAuo/ozNKSxsS96KtAJ4RQlhSzQtQK6Swb0Y2granlj6yacC+rwpeSszuQpFX+pYVsmT2MvteNsAX72T2rb83HFXdG501ouneFBxrQ/60AvvHPIhctev3Nt3T1Cw5gU4Vtrdd9hJ73ItVQiM7DFSe1fuVepq71F0DXj8isfhUe0PLY/EgSJqWSgz1e+oo3rXVhZnTWTU/3emw+aQmTOJ8Drbz0aGsisxAqI8WsELWCK4FbUgi8zV6/gFCKA0JrNJGoPk76ptzxbUvs7NF72VfdTsXqWn8BXPR6XKpuBoDWRY/XnTYWohaSObNCCCGEEMJmSTErhBBCCCFslhSzQgghhBDCZsmcWSGEEEKImxj58o0v2f5jAdqW9zDlnUF0cb61Vereg0RE5aLVAlwj1+zAEzP607Hab5ap9nyVucDHs2aw4cdM7Fr24/V3X6OHlRbUkZFZIYQQQohyRewJXMm81Zn0GOFLqwt7eLbDZn4x3doy48j/2LA6novnMrl4LpfM1PzyxeLqbr7KmIiYMoiAlUn0GzWKthfeZkCbKfxYSeY/Q0ZmhRBCCCFKmZOOE7LByMy9M/inrx2MbU1mq+Vs3t2PN4ZVHEo0cfpQGqM+nUvIoJpbQUPt+SpjStjEhPWpLI1K44UHdDChK5edH2JtZBCrR3pXfYAqyMisEEIIIUSpwgvZgCf6tqULFds50akDHDme8ZuW18k3whdj5/KYazB+96/l073pdT5fZfLOJwO9aedVOr/BrhV+PvD90WSrHL+BnVbL6v9+aJWDWdu51HNcLShg80crlI5SKUNKEkZjlmrzZVy+SEHWJdWe36KiIurdVU/pGFZx+fIVTsbGVd1QIXZaDSazRekYt9Wtqx9NmjgqHUMIIWhorwXOYiwASmuva4C9tv7NDTPPse8U0KMn015pR8oX+1gy9l3M2+byXK/qGwlVe77KaB0aAwfIybuR2QLYa61zw+kGd9+t5ee4n61yMGvLyy/gmvkq50/9qHSUSqWnZ9CwYQPV5svPusKv9vaqPb931buL+nfVji8HXpv9Bg729tjdrb5bDl2/fp2YmJ/429/clI5SKWOuiW++bc2idxYrHUUIIbhmKQLccdTceKwhUGC+fnND5458cHI2Dd0dS26bPKgN+UfmE7HrHM/16lhn81XGbLEAPjSpkFkDFJivWeX4DbJzctm44ROrHMzadny9k6+/3s17K5YqHaVSb81fgLNzU6ZOmax0lEo9/0IA48eNoW+fh5SOUqln/V+gqOh61Q1tQF5eHq9Me4lWHi2VjnKLgoJCRj89nvlv+SgdpVJHj2Xw8foCpWMIIQQADTUNgEIKy7/MKuT8Keg9q9lN7fKTEti57yoDJ99XUiyixcmhkhHSOpavMlqNBiigoDxzNmfiYfCcDlY5fu0YFhNCCCGEsAKHrh14BCMz5h4kmyIOr9nDNqCjZyMwpfHRzC3siTfR0JLBktnhhG42YKaIxG37ee8U9Hmwegc11J6vMroej/JPUhkz+7+kY2LfewtYD9zfrqlVji+rGQghhBBClHNnxs7h/PToVgZu2QrA0x9O5wkfO8jNY1fYIXr8/WEG932ABYGJhAQs54uAkmf2DxzH2L7VPR9V7fkq04l3v13K4QFBtPk8CICX1x/hmU7WWfBWilkhhBBCiAqcuvZix5lOpBoKwckJvXvp9RA6bzal35jfP/j1Z+j7opGMbAs4OdHSuWbKKrXnq4xrjxeITxtKwvkcaNIK75bWu3ODFLNCCCGEEL+lc0TvU/UqK1pnR1pWcvetaqf2fJXRtcS7k/WnOcicWSGEEEIIYbOkmBVCCCGEEDZLilkhhBBCCGGzZM6sEEJY0dLXDigdoUbVtf6+Out1pSMIIX5DilkhhLCie7q4KB2hxiTEZdL9vsFKx6gxCXEbuffeLkrHqDFqvkW3EBVJMSuEEFb02Jj2SkeoMZEbTzNu7GilY9SY8A0b61x/hbAFMmdWCCGEEELYLClmhRBCCCGEzZJiVgghhBBC2Cwrzpm9yCezZ/LZiSzsWvRh1oKZdFPVdRBqzqfmbKD+fLWJml5rI6HTt7Hu6FUatWrH3OUD6el6a6vTkYdYsy8XOzuAaxhNDkx8sx9+Vd+YRgghhPjLrDQya2brtEd4ZdVZ+owYQduLixjiPY0Ys3WO/tepOZ+as4H689Umanqti9jkv4rnl2YwcMy9eJ3/hl5uX3DcdGvLSwcOsXTpz6SkZJOSkk9aSj6Wmg8shBCijrLKyKw56XP8ww0s/jYFf18djPPjkvsAwr6exorhXtb4X9TafGrOZgv5ahM1vdam0ycYHWbk/WNzCfCzg4mtSbt7Jau29SX0qYrDsyZORF0hYMcc3h9qX6MZhRBCCLBSMZtnSAF60q6truQBrQd+PhB2PBlUUPCoOZ+as4H689Umanqt885lAZ7c42VX8oBdE7p3hg8OZ8FNxex1jDmw6rF5RAKpem+Wvv84gUMrmY8ghBBKKAbT1etcLShSOsktrhYWUYz685nNZkymSr6aU5jJZKK4uNg6xazGvjFwiOx8oPRz2AzotBprHP4vU3M+NWcD9eerTdT0WmsctMBZsvIAxxtZGtv9ZmZSuoEv4oAHe7JoVhtObdhH0GNLMO2fw6y+MlIrhFCeU1Md/wmJUjrGbbm5NWXpaweop3SQShQD3R7wZeXKlUpHqVRxcTHNmze3TjFrsZgBH5wqfOZqgVyzOmbOqTmfmrOB+vPVJmp6rS2WIsCNptqbs+SZfr25oWt7vj0fgsbDsaTmHdoG48EFfLDNwKy+defmAUII9crKNPJCSHdcmjVSOsotTFev8014Fq/PfB1nZ2el49zCbDazatUqnnvuOVXns87IrEYL5JJf/pmbQ3I8DJmljg8zNedTczZQf77aRE2vtUbTADCTX37xWSGJcTD0rZunDxhPJ7JhZyGjAu8rHcDV4ta4khFcIYRQSL276uHSrBHNPRyUjnKLqwVF1CMLZ2dn3NzclI5zi7KpBWrOV69ePeusZqDrNpiRGJjwZigZmNn/wSLCgXvbOlnj8H+ZmvOpORuoP19toqbX2rFnB8ZgZMSrh0iniL3L9hEGPODVCEyXWDh1G5tiTWgtGQQFbWTBJxcwUUTspu8JiYPH+7eo8cxCCCHqJiutM+vDgt2LOTwkGO+IYAACQqMZ76OzzuH/MjXnU3M2UH++2kRNr3Vzlh8cxsFe23DbuA2AoM8C8e9iB8Y8Nqw6xKAn+vHUoPv5LCSR0RNWsmpCyTOHh4whaJDMlxVCCFEzrHbTBJdu/pxMeZQkQw408cCrhbqKHTXnU3M2UH++2kRNr7Vrz56k5Phw+txVcGpCe4/SlQ0c7yG2eGF5u6femcCwICNpWRZo6oSnqxXvxSKEEEJUwbqfOroWePmo+OtFNedTczZQf77aRE2vtaMj7btUfSsvO1dHPGU1LiGEEAqQqzSEEEIIIYTNkmJWCCGEEELYLClmhRBCCCGEzZJiVgghhBBC2CwpZoUQwgZciTcQG5NG9h3cHt2clk7sMQMXMtV3r/c7Zr5IzNGjxKdm3EljkmKOEhOfirnqxupU1/orhBVJMSuEECoXG7aBR/suZ/7L/2Fgq83E5t6+bfaxg/S6911Cgtbxjw4L+TzmDqpftck9yiT3zgzwD+LB+72ZFBrzO40zCJ3kTvcB/kx48H7cJ33C77w86lTX+iuElUkxK4QQapabzPyZMSw4uZhNUYv599NHCFmZUL47cfMu3t+cVrplYvOkrQz7MIQdUbPZua49i56LIluZ5H/agdVBRIwLJetkNFlxoUQEv8T+sorNHM+8afOIKR2SzD2wmuAIf05kneRkVhz+Ea+w/MCdjG6qR13rrxDWJsWsEEKomDn5Akn0wde9ZLttb19Iv1q+PzfhGGGxeSUbpsskGNx5qHtTANw6t8XdkEdhTYf+S3I5dSQe/8d6lGy26MI4ILu8Ir/C5vDN5JQWd8mxMXj4D0Jf0piuIz1Iv1JQ06H/grrWXyGsT27VI4QQKlZozAEa0rB0W+emIy3bxJWYBH5Ov05ighEKU4naa0ajMXMKeFJT2tipMfZcJdcELe2Uyf9n5F0GraasE01w9cklKzuF/bEJWApOYMBA1M4dWOwdyEtJBK2m/LnNmunIzrKt4q6u9VcIa5NiVghRy5hIT89Do9FU0c4CNMbRUd1VnlPnNniRSCHgBCRHJ+Kub8/lwz+xJDwdTgEcZt2lRjQfN5ABHpCRDzhDfkIqSTjTXN1d/A0dPj192JFdALiA+TS743W84XiBLS+9xZnSGaKbV65mNy14NfAf8EPZMGYGh7+KR7+iiWLp/7i60l9be18a+fKNL9n+YwHalvcw5Z1BdHG+tVXq3oNEROWi1QJcI9fswBMz+tNRkTuRX+DjWTPY8GMmdi378fq7r9FDVXdmrL58Ms1A1GrG2EgW/msZe08blY4iasj3/xqEm23GOb8AACAASURBVJsbTZo0qeKfG02aDGJvutKJq9DQHjjEl98bgQJOx6TRumUjukx+kh1RASwIdMd9ylhCo6bz9uR2ODmksTq8ZE7tz98lQj9d+aiurbB3gfA313MRyDgUTTyeuLXozYroaCL3rcYHH1bsiyQ6ei399I0xhC9hTwaQcZojBvBo4qB0F/6QutBf23pfFrEncCXzVmfSY4QvrS7s4dkOm/mlkmspM478jw2r47l4LpOL53LJTM1HmTVETERMGUTAyiT6jRpF2wtvM6DNFH5UzfWf1ZtPRmZFrXYuZgshc8PQG+8h5T9DlY4jaoDGseRPfb1eX0XLVFJTW+FQ1UCR0nRteXddH0aMmk8YQL+/s3OyR/lui8YO+/KPT3vGfjSO6J5r8VsG4M2qU71Qf6lzs96B6wja3p3OTZcC8Mb2OHy1pTvN13DEEfIALei6BbI+4AdGe5fME+7/xnZe9FVkWOxPqwv9taX3pTnpOCEbjMzcO4N/+trB2NZktlrO5t39eGNYxaFEE6cPpTHq07mEDLJXLC+AKWETE9ansjQqjRce0MGErlx2foi1kUGsHumtaLaayCfFrKh1TkcuZNqKk/xz7rt0t5RcKNOrU3PSD4XyytzPaT/x37z5VBeFU4rq0jNwC8WBSqewLv3Qxzl4qjeXsqG5V1O0Ffb5BQewqcK21us+Qs97kWooROfhipPS39b+GVov5kSnMSHpPDRphd6lQo91/YjM6lexMY/NjyRhUio52OOld6nptH9dHeivLb0vCy9kA57o25a+eeyc6NQBIo5nwE3F7HXyjfDF2LkcANI8vPm/d59g7KCa/24/73wy0Jt2XqV/2Ni1ws8Hwo4mgwqK2erO10Cr1TDnzXl/+UDVISM9gyxjjmrznUlOxs5Ova9fbl4un2/eyjf79isdpVJms4V6d9Wz+nHP7fuAPXtS2bMnlqWfTeFBzvOgQxQDegURB+i9zlVDMVuPTZ9/gb2Dsn+dV6bo2jXuqt+AJct+UTpKpdLTTfx63Rbm/ClL69wUfSVz9iplZ4/eS30/i3+MFr2X1x23dtHrsY2y7nbqWn/Vq6G9FjiLsQAorb2uAfba+jc3zDzHvlNAj55Me6UdKV/sY8nYdzFvm8tzvWr2/ad1aAwcICfvRmYLYK9VxySj6s7XoFEje67Xv9sqB7O24oZ3Y6ctQKNR5wCypmF9NA216s2n0VLcQKva86vR3k39u6w/bdv3ufcJMW8hJS2BoNFTAYgeHc2Dw8cw0b0Nj73Y3er/T622HsnJP9KwYf2qG9ew69eLoRh+PK50ksqZzPVo5dHYasc7HbmMFV8notVqq2hpxkwnZrwTgKctjl4KYUNs6X15zVIEuONYYapDQ6DAfP3mhs4d+eDkbBq6O5ZM5RnUhvwj84nYdY7nenWsucCA2WIBfGhSIbMGKDBfq9Ect1Pd+RpkZ2fzdvDbVjmYtf2w+0uOfLOVOa+HKB2lUm/NX4Czc1OmTpmsdJRKTXxhKv2HPolf74eVjlKpN6f+k6Ki61U3/INcu3Rn5BMQn3iAg1ujSS19/KGBj9K7kw8PdrH+V0AWi5lFC31po1ffaFhGhpknRu7nvRVLlY5SqRMxPxGx5UurHe/cvmWsWpVadUMA9AwMkWJWiOpmS+/LhpoGQCGFlrJHCjl/CnrPanZTu/ykBHbuu8rAyfeVzkvX4uRQyQhuDShZ2q2AgvLM2ZyJh8FzOtR4lspUdz51DikK8Rd8/9oA+i2IA2BMSBCNF+zl8bldWDB1AgCdQ/YQ+84gJSOKatR98ka2PJRFlSsAARZNUwaoaumayhSRGnOBQk1j2vrcPF8WwJxbgLHgxvXTjZwccfi9IsBk5Je4HBq4unCPCv/4qpyZpJiT5Gvc6Oijv+U1+K2L8TFcsGjw7OiDS1WNVan29deW3pcOXTvwCF8zY+5BvlnTnYQ1e9gGzPFsBKY0PnrzEC2f+Tt9yWDJ7K2kNnVm+pPNObdtP++dgonzW9Z4Zl2PR/knbzJm9n9J+WgCJ99bwHpgVbumNZ6lMtWdT4pZUetodPcAcQyfu4OQrge4lzge7/opexbA4JCNtNCp/fJ18Vc4tu/J8PZKp7CWAj6fPJdFWxxxx0jaiFF8v6bHTasTxK1cwwvL0sq3J38xlxf63qZIzU3l9XbvscvDHQxpPLLoFd6e6FF5W9XIIHSSN8ERHnhgwDByOSlrx3O76/ePhk5iSHAEPj4QHz+O3Skr6Kb+i/0rqJ39ta33pTszdg7np0e3MnDLVgCe/nA6T/jYQW4eu8IO0ePvDzO47wMsCEwkJGA5XwSUPLN/4DjG3u79V6068e63Szk8IIg2nwcB8PL6IzzTSS0/DNWbT4pZUev0nLWFq4Em7Ozs2PvaQgC27zvHO//5lOJZnyqcTojfYUrj/Vk/MWDhI3S0g/yDUSza0pOv0kfQEiMLXOfz8TOdmVp+cYmJMwkwedtcXqjkgpPEzbvYw31MfbLkXrjH10Sw6+lxHF92H6T9hN+9n/OPUdPpoZbPOwBzPPOCI3h88Rx8tZB7YDXBEf6cyFqMnosEN+3M8mcfZU5vFyCXrfPmYRk5h6d8dJB7gKDgCELjshjeAnZMa4r/8hGcnNNP6V7dXl3rr41w6tqLHWc6kWooBCcn9O6lX3fovNmUvri83eDXn6Hvi0Yysi3g5ERLZ+XKKtceLxCfNpSE8znQpBXeLdX0xq7efHLTBFEr2dmV/OJpfd9DdNZ35vEed36VsBDKyWPnhmPkls4rOx97HveJHSn50tKRe0c4kplurtD+Ojkn01gzbC5+rsH4PbaLxAqLkOcmHCMsNq90y8SZI2mMGtqmZNO9BcMAYzYqc4XN4ZvJKe1mcmwMHv6DKFmdtAVdR3qQfuXG7VvjloYSe6XkBTMnxxJPAD1alOzr0HskpKuug79R1/prQ3SO6H3cbxSyt6F1dqSll6uihWw5XUu8O3VSXSFbrpryqeCVF6L6tH/qHWKfekfpGEL8PpORw/suYik0kIaRY7tjsTTSUphyGSpcTOLSrBG5mRWKWVM2+V6dmfn+4wzrbObjof9h9kpvVg4q4uf06yQmGKEwlai9ZjSuzSi4BNry1Vca4dyhkJyCIlTxUWC+yP69cVgKTmDAQNTOHVjsHchLSQTtjalBzZrpyM7KJmb/aa5YskkACg/vZE++E1pzCmBPWesmzZphyM5XoDN3oK71V4hqpILfYEIIUcdZMtm9cCepFAKwc0UUP+DIpMD7IOpqaaMCftqeRotljW48z645Uz95Bm3pwNHQGd1ZE36Jy7oLLAlPh1MAh1l3qRHNxz3BI73c+S7HDNiD6TI/nGrES81U8jFgPsuWhW9xhlwANq9czW5a8GrgP+CHstHGDA5/FY9+RQOOb1jORxeNxANsWMNlHBm3cBw+/EgB4AKcjtqPh36gMv2pSl3rrxDVSKYZCCGE0nRteSNqOqF7x+KFO3P2BrAp6mn+prcjbcM+ojKBzMvEGKC5o5b8pFSOxxgh9Ti9Wv2nZD8mjm45grtvc7pMfpIdUQEsCHTHfcpYQqOm8/bktjRygW1zj3AFyD58hiSccVHLgga63qyIjiZy32p88GHFvkiio9fST98YQ/gS9mQAGac5YgCPJq3xXxtJdOTXzPSAgNVfE30ykhcfbA2Esn7/RSCD2Jh47vFQ6Q056lp/hahGKvmTXAghBJYiHLCDAsAOHLr2599TEgnsEAxAj9lTGOtrx/G3P+GF3JEcX9SZORMPlO/Hozv/Xdj2xuE0dthzY9kuv5fHM/Grd3nUdR8AL22bTUe1rbFrvoYjjpAHaEHXLZD1AT8w2rtkCZ/+b2znRd+y+XYW0IH2WukkY11v1q0PoPuIziwtaUzci74KdOIPqGv9FaIaSDErhBBqofMmNL3ifcob0P+tAL7xzyIXLfrSdWH9Xp9N2Q3dnlg0nYGvGjHmg4ve8aY1Sf2CA9hU8fh2rkyNWsATSdmKX3l9W7p+RGb1q/CAlsfmR5IwKZUc7PHSV7yJqwszo7NuerrXY/NJS5jE+Rxo5VX1Gq2Kq2v9FaIaqPA3mRBCiIqc9E1x+p39Ds6OODjf6dEa0NJL9XeKuIWLXo9L1c0A0Lro8brTxipV1/orxF8hc2aFEEIIIYTNkmJWCCGEEELYLClmhRBCCCGEzbJ6MXv5m3+x8OND1j6sFVzkk9njGTp0KCMnLeJohtJ5KlJzthvUe25tlZHQ6et56KE1DBn7DYfSK291OvIQ06fv5rXXdvPaazuYOn0/x401m/QG2/hZFUIIUXdYrZg1Zxr45dAmVjwzlwNparsDiZmt0x7hlVVn6TNiBG0vLmKI9zRizFU/s/qpOVsJdZ9bW1XEJv9VPL80g4Fj7sXr/Df0cvuC46ZbW146cIilS38mJSWblJR80lLysdR8YGzhZ1UIIUTdY7XVDOI+9mfykj0AqG2VO3PS5/iHG1j8bQr+vjoY58cl9wGEfT2NFcO9JFsV1HxubZXp9AlGhxl5/9hcAvzsYGJr0u5eyaptfQl9quKV5iZORF0hYMcc3h+q7Or2tvCzKoQQou6xWjHrN303x6bD8YVdmFvJ6JKS8gwpQE/atS1deFrrgZ8PhB1PBoU/hNWcrYyaz62tyjuXBXhyj1fpivV2TejeGT44nAU3FbPXMebAqsfmEQmk6r1Z+v7jBA6t+aWVbOFnVQghblEMpqvXuVpQVHXbGna1sIhiwGw2YzKp7wO2LJOa8xUXF1t/nVn1/aiAxr4xcIjsfKD0c9gM6LQaBVOVUHO231LjubVVGgctcJasPMCx5DEz0NjuNzN/0g18EQc82JNFs9pwasM+gh5bgmn/HGb1rdmRWlv6WRVCiDI+HTuwLzwTyKqybU0rBnLzjbz0ystQr57ScSrl1KQJAS+9BOqMh17fum7cNMFiMQM+OFX4zNUCuWZlZh5WpOZsovpYLEWAG00r3K5HC+SZfr25oWt7vj0fgsbDsaTmHdoG48EFfLDNwKy+7WsuMPKzKoSwTcXXi5k4cSLOznd8Z5EaYzabeemVlxkf5ItLs0ZKx7mF6ep1lr0WzcCRbdA5qW/g4pr5VyI3pNSNYlaj0QK55Jd/5uaQHA9DZtVsMVAZNWcT1UejaQCYyS+/eKqQxDgY+tbN0weMpxPZsLOQUYH3lQ7ganFrXMkIbg2Qn1UhhC266667cHZ2xs3NTekotzCZTFCvHi7NGtHcw0HpOLe4WlAE9UDnpMHJRX03S7aYfqVevTqyzqyu22BGYmDCm6FkYGb/B4sIB+5t+3s3iJRsovo49uzAGIyMePUQ6RSxd9k+woAHvBqB6RILp25jU6wJrSWDoKCNLPjkAiaKiN30PSFx8Hj/FjWeWX5WhRBCqJHVR2bVOdTrw4Ldizk8JBjviGAAAkKjGe+jUzgXqDvbzdR5bm1Vc5YfHMbBXttw27gNgKDPAvHvYgfGPDasOsSgJ/rx1KD7+SwkkdETVrJqQskzh4eMIWiQEisb2M7PqhBCiLrD6vWJ36xYtlv7oFbg0s2fkymPkmTIgSYeeLVQzwewmrNVpNZza6tce/YkJceH0+euglMT2nuUrmzgeA+xxQvL2z31zgSGBRlJy7JAUyc8XZX7s8JWflaFEELUHXVrsE3XAi+fmv969o6oOZuoPo6OtO/iWGUzO1dHPGt+Na7Kyc+qEEIIFakTc2aFEEIIIUTtJMWsEEIIIYSwWVLMCiGEEEIIm1W35swKIUQ1W/raAaUj1KhXZ72udIQaFb5ho9IRhBC/IcWsEEJYUff7BisdocYkxG2kVedrSseoMSdj4duDO5SOIYT4DSlmhRDCisaNHa10hBoTvmEjj42pO3eAi9x4miee8VI6Ro1Z9a8YpSMIcUdkzqwQQgghhLBZUswKIYQQQgibJcWsEEIIIYSwWTJnVgghhBCiShf4eNYMNvyYiV3Lfrz+7mv0UOzOjEa+fONLtv9YgLblPUx5ZxBdnG9tlbr3IBFRuWi1ANfINTvwxIz+dFTwTuTZR46w43Irxj/ubrVjysisEEIIIcTvMhExZRABK5PoN2oUbS+8zYA2U/jRpESWIvYErmTe6kx6jPCl1YU9PNthM79UkiXjyP/YsDqei+cyuXgul8zUfIpqPjAA13LyOXsykc/eOExMhnVXQZGRWSGEEEKI32FK2MSE9aksjUrjhQd0MKErl50fYm1kEKtHetdoFnPScUI2GJm5dwb/9LWDsa3JbLWczbv78cawikPFJk4fSmPUp3MJGWRfoxkrc2bHtywMTwXA2q+YjMwKIYQQQvyOvPPJQG/aeZV+P2/XCj8f+P5oco1nKbyQDXiib2tXmsWJTh3gyPGM37S8Tr4Rvhg7l8dcg/G7fy2f7k2v6bjlOoz7B+t2vcysp5zJtPLy1A20Wi2r3nnVuke1kuyMK+TnZjPnzXlKR6nUmeRk7Ow0qs2Xl5vLni83cvj73UpHqZTFYqbeXfWUjmEV9evXZ/0nyTRu3FDpKLcwmYq4664GrFkbqnSUSmVkZlKvXu34ORBC1E5ah8bAAXLygNJ61gLYa2v+d35Dey1wFmPBjSzXAHtt/ZsbZp5j3ymgR0+mvdKOlC/2sWTsu5i3zeW5XsqN1FbHNIcG9vaNcLSrhiNbgcWuPiaTluv171Y6SqXuaqChXv27VZtPq9XgoK2n2vObZWdH/btqx5cDC995l4OH/qd0jNua8X/2FBYUKB2jUm30egY+3F/pGEIIcVtmiwXwoYnmxmMaoMBc83fAu2YpAtxxrJClIVBgvn5zQ+eOfHByNg3dHXEAGNSG/CPzidh1jud6day5wDWgQVZWNnNeD1E6R6V2fL2TLyP38nzw20pHqdSad1+nSVMXnno+SOkolZr3ytM8Mexx+vZ5SOkolXrW/wWKiq5X3dAGtG7ditatWykdQwghRDXQajRAAQWWskeyORMPg+d0qPEsDTUNgEIKy7MUcv4U9J7V7KZ2+UkJ7Nx3lYGT7yspZtHi5FDJCG4tUDuGxYQQQgghqomux6P8k1TGzP4v6ZjY994C1gP3t2ta41kcunbgEYzMmHuQbIo4vGYP24COno3AlMZHM7ewJ95EQ0sGS2aHE7rZgJkiErft571T0OfBljWeubrJagZCCCGEEL+rE+9+u5TDA4Jo83nJt7Evrz/CM52UWLDVnRk7h/PTo1sZuGUrAE9/OJ0nfOwgN49dYYfo8feHGdz3ARYEJhISsJwvAkqe2T9wHGP7KruyQXUUnlLMCiGEEEJUwbXHC8SnDSXhfA40aYV3S+XuPODUtRc7znQi1VAITk7o3UsvjtF5syl9cXm7wa8/Q98XjWRkW8DJiZbOypd9HZ4byxIrH1P5XgkhhBBC2AJdS7w7qeRrep0jeh/HKptpnR1pWcndwWoTmTMrhBBCCCFslhSzQgghhBDCZkkxK4QQQgghbJYUs0IIIYQQwmZJMSuEELbAfJGYo0eJT/3t/dcrbUxSzFFi4lMxV3uw6nEl3kBsTBrZpqrbmtPSiT1m4EJmddwoszpcJy0xjbNnjdzJ/aOuZWST9MsV0nMqu8nMdXIz8sku+5djq2dciD9PVjMQQgi1yz3KpDZDiPDwAUM8Ixd/y1p/39s0ziB0kjfBER54YMAwcjkpa8ej3CJCf1xs2AaenRmDVwdIOtWddWeepMttOpB97CADH92KewdH0k7BzL0z+KevSu/hDcBV9i36kE++c8QZI5n9H2bVTB8a3aZ17i+xTAvaj7PekcxUGL/yKR6+R3ujQcEF3h23DUPZducerPh3d5s630L8VTIyK4QQKndgdRAR40LJOhlNVlwoEcEvsT+3dKc5nnnT5hFTOiCXe2A1wRH+nMg6ycmsOPwjXmH5gTsZzVWJ3GTmz4xhwcnFbIpazL+fPkLIyoTy3Ymbd/H+5rTSLRObJ21l2Ich7Iiazc517Vn0XBTZyiS/I4UnY/jku84s3jWBJbue4+Hv9hF58mrpXjNHPvqOA2fN5dvfLdhPn5AJLFkzgaVzWvLJvJ/IrXC8axczudq5Jyt2vcy6XS+zTgpZUQdJMSuEEKqWy6kj8fg/1qNks0UXxgHZ5RXbFTaHb6bs2+Xk2Bg8/AehL2lM15EepF8pqOnQf5o5+QJJ9MHXvWS7bW9fSL9avj834RhhsXklG6bLJBjceah7yS1F3Tq3xd2QR2FNh/4DLiel4/y4J64AONC2vyN52Zby/amb4jiX/WvJhiWL1CvO3NepZC1Rp3YeOF8puGnqyNWrJjLjDjHtkZU8+8hKNu5LQ4i6RqYZCCGEyuVdBq1GU7rVBFefXLKyU9gfm4Cl4AQGDETt3IHF3oG8lETQasqf26yZjuws2ylmC405QEMalm7r3HSkZZu4EpPAz+nXSUwwQmEqUXvNaDRmTgFPlnXXqTH2XCXXBC1VOtOgICMHGt4YR3J0akB+rpmzP6aQW2QmDbDEn+Wnq1p07vVIBQaUfVI3vpu7sZBvAdfSPuemF/HA4w8z5tn2mGOOMHved3T521g6K3vHUiFqlBVHZi/yyezxDB06lJGTFnFUpd9qXf7mXyz8+JDSMSql3my2cW6FqJ10+PT0ITe7tCA1n2Z3vI5WjhfYsvAtlq/cAMDmlat5a+EGGnb9B+SWDdtmcPirePTtmigT/U9w6twGLwrLR1eToxNx1ztx+fBPLHnrO776Gth/mHVv7eWrUxoGeEBGfknb/IRUknCmuUoLWYCWvp5QUDa2epUz0Zm4tqxH8t5jbP78OD8CcXti2LzmBAn5Orq6gbH0IrjCc5cwoMP5xt8qNPtbL6ZN9cHVvj4evX3oQyaXr1R2oZgQtZeVilkzW6c9wiurztJnxAjaXlzEEO9p5XO41MCcaeCXQ5tY8cxcDqTlKx3nJmrOZgvnVojazt4Fwt9cz0Ug41A08Xji1qI3K6Kjidy3Gh98WLEvkujotfTTN8YQvoQ9GUDGaY4YwKOJg9JduHMN7YFDfPm9ESjgdEwarVs2osvkJ9kRFcCCQHfcp4wlNGo6b09uh5NDGqvDS+bU/vxdIvTTlY/qqpG2sZbM3Uf5KQfIySLxCjRtrOPhmaOY/++RDHeDITNGMn/9KIbca0/juzPZsvMcAMnHz8EDDjTgKkk/XiDbAkf+s4r/+6hkf2HiOX7AmWZu9RXsoRA1zyrTDMxJn+MfbmDxtyn4++pgnB+X3AcQ9vU0Vgz3ssb/4i+L+9ifyUv2AHC7a4CVouZstnBuhajtegeuI2h7dzo3XQrAG9vj8C27oN18DUccIQ/Qgq5bIOsDfmC0d8k80v5vbOdFXxu6JEjXlnfX9WHEqPmEAfT7Ozsne5TvtmjssKdsCS57xn40juiea/FbBuDNqlO9UHPp3qijHy+POMfS0SsB6PzcCIaUr07wK9wNDYpK58xyN0PmPMLJ57fx7CYAPTM+60KjgnOsfm0bYz97mftHP8zOl8v2Q5+pI2SKgahzrFLM5hlSgJ60a1v6C1PrgZ8PhB1PBpUUPH7Td3NsOhxf2IW5d7BuYU1SczZbOLdC1HpaL+ZEpzEh6Tw0aYXepcLSTLp+RGb1q9iYx+ZHkjAplRzs8dK71HTav0w/9HEOnurNpWxo7tWUCr3FLziATRW2tV73EXrei1RDIToPV5xUPMWgRH38XhjFin8YKUCDe/O7K+y7m2FrXr6pdUOPe3jtKw/Srpiwd3NCpwFozZJdpe2a+DB/VzuyL5mgsQNO9jIq+1vFxcWYzWZMJpV9wEJJpmIwXb3O1QL1rZN8tbAIiuGa+Vcspl+rfkINs5h/pbi42DrFrMa+MXCI7HwoWxPEDOgqXISgFur7UblBjdls6dwKUbtp0Xvd+R+QLno9tlfG3qB1bore+Q4b29mj97Kt4Uhdc8c7X0JLczfuHnf/TgMtTs21v7O/bvPx8WH16tVKx7itNp6teW/O/6BePaWj3KIYaObuxtefngXUma97dz/rFLMWixnwwalCfaMFcs2W2z1F2Ag5t0IIIWzZ6NGjGT16tNIxRDWyygVgGo0WyCW/vL7JITkehvytvTUOLxQk51YIIYQQamaVYlbXbTAjMTDhzVAyMLP/g0WEA/e2dbLG4YWC5NwKoUZmkmKOEhOfyp0sLHIxPoajMfFk2MQqJEWkxqTyS3xWpX0z5xZwJc1Y/i+/qmmQJiO/HEslMVWta+1eJy0xjbNnjVyrZO+1gqtkZ+SX/yus6ksxSz5nf0nDcOlqFQ2FqD2sdNMEHxbsXszhIcF4RwQDEBAazXgf9V1Bq+a7RKgzm+2cWyHqhgxCJ3kTHOGBBwYMI5eTsnb8bedfHg2dxJDgCHx8ID5+HLtTVtBNtW/fAj6fPJdFWxxxx0jaiFF8v6bHTasTxK1cwwvLbtzlavIXc3mh723my+am8nq799jl4Q6GNB5Z9ApvT/SovK0irrJv0Yd88p0jzhjJ7P8wq2b60KhCizOfb2Xhpszy7eHvPM+wB24zf7YgjdUjv+CwmzNcyaTH1KeY8rhb9XZBCBWwWv3k0s2fkymPkmTIgSYeeLVQ529Lv1mxbFc6xG2oNZutnFshaiVzPPOCI3h88Rx8tZB7YDXBEf6cyFqMnosEN+3M8mcfZU5vFyCXrfPmYRk5h6d8dJB7gKDgCELjshjeAnZMa4r/8hGcnNNP6V6VMKXx/qyfGLDwETraQf7BKBZt6clX6SNoiZEFrvP5+JnOTO1VVqyaOJMAk7fN5YVetxawiZt3sYf7mPpkyb1wj6+JYNfT4zi+7D5I+wm/ez/nH6Om00OpX2GWDDa/n0jXqT3/v737j6q6vuM4/nQilwDvBS8MUOqGYUeROcumm07LuY52LGmks0N2ZtovqM6wtdpp1dqPzpyr3GTNWGM6xTqrs1oWIjmWA5aiohiMQLSJXeXn9XLhcuVevLo/AOVsmO7I+HLx9fjvnu/3qokvNgAAB51JREFUfM/rezmH+76f7/t+3iQEg+fjcjZ/mMwvt88lGjebF2wg77YElkzpLVa9HLfDt9bcT8qU/y5g7YW72MUElszr/qlf9TsfUjp/ARtXTYCWWpYv+yuzv6FpYDL8DeAEMMA8lsSkJBU7w5H+tiIGaeKt3Ldo7Xnm/mlFOfErb8UGwFhuuiue5qbzj9Ar1+ZQ0dT9LNr7aQVVZDBjbPexibPugmYnQ0c7+Vv20dbz6Pyzis+IWzGJcQBYmJJqwdHct9nAT+vH9WSnPM+06O8z7fbt1PZpM2g7tI8/VLT3vOrkyJ56Fi+8tvtl3FhSAJeht+9hd0EtHT39BI2Hm7HekUA0AOGMn2uh3dm3j+AM7loH7zz5e5YvyGL5E7uw9znsPlZL3pHeWWlejlc5mDeru5AnKoo5gKcdkWFvaD7ZFhG50nlPsHNHJb6OA9ixU5z/Pr6wcNqP1kKfrfFiYsw4Tzop31lDk8/JIcBTms8H7khM3qNAGL1nR8TEYHcOgSmDnS5KC0/g89ipx8W+ggp8oSY8RxvBdH6f1KiYUNocfYrZTifuxGSeeuUOUpK9/HHhyzyTdT1Zt57mn81+ag+5wFNH8Q4vwdExdDSAKbj3Yy4U60QPrR2nGfSPPp+byr0t+DubcODik91H8IeMorOxFUadX1OyRAbhbuvTOetrxxOfwL1PzGbOdV1se/wNXn3zGr43w8+nzjPY7S441cDBPV2MjIzklAOCgnrfvxBG207TfsoPaO9ZGd5UzIqIDEXef/H26p9whDYA3spaTwFjeTJzERT1Li+2ULq1Ctu6IMq2/JoNJ1xUAWzJphELy1YvI4n9dABRQE3xTuJt3zTmfvryOShYnU8d3auK+euKKcLCA5lfhuLeHy51cPC9esb+qk8HaUgsj2z+DqaewQgLn5hOdm4DjebjvJTbDNUApWxsCCV22Z0smBnHh61eIAw6GymqDuXRGAM+9rpc7Nn0EQ09u4nvfvMABxlNytIEONhbrJ/iSImD6Mw+Ux+CrSx+/nZG9XwbmZmWxDsFJ3GENvF6gRPqAKrJcwQROf9mZk6xUtbuA64C30kO1gWxJFKFrAx/A9tmICIiA8M8i3UlJeQVrieJJNYV5lFS8hq32EZjz32JD1qAlhr22CE+4hpWvpZHSd42noqHjPXbKPk4j4e/fg2Qw6adJ4AWKsqrmBAfYfCNAebxPFf8ODk70kgkjmd3ZPCn4nv4qi2E+i2FFDsARyPldoi1mHAfrqOs3AV1Zcy8+uXu43Sy9+09xE2N5UsPLeH94gx+nhlHXHoaOcWP88JD4wmNgnef30MT4Cw9wmGsRBnRPxo2jhXZaTydNY94rNyXtZifZc9ncpwJR8FeDrYCrSepbYIxo0fhsddTXeuGhhoeWPR693G8fFJUhXXCGBJT5/FS9mLSl1qxps7j6ew00lPHYbJAUU4VTqCt8jh2zJhDPz+ayHCglVkRkaHM24UFC7QDJjB/JZNNGUXcff0YAOY+9x4PT+3tZfeBGUxdPY2V5lls3JTB9NRk1nafTOXDUw24iQvwnSacEOgAQiD8prm8mF5L5sTunVNmPJNO2tQQyl7YzINtd1H2i2SeXfGPc8eJn87vVo8/f7ngEML6zFKc9ti9rNi6htuiCwF49N1nmGTkuNsuP6EEgwcIhtBJ03gs9Rhr784CIPm+VOZPMFG9YQerPXPY+EgCK+4oP3ecLybxg/Rx5y53elQwV+E/93rit29jYXEuqxbsA2DxmvtI0LBGuQKMmP612We3571rdI5+vb8tn7/k7eDpFzcYHaVf2Wt+SMSYKJbev8roKP366XfvYfmypdw8Z7bRUfq1fOWDvPpKFnFxsUZHERkQM2bOYbD+n7bU1dFKGIm2iw+t9bbU8VkrXJ1oYyCHni5YmML6rYsG8IrdnHUnacOEzdb/Mqrb4cLlhiib5RLu5zTHDzshMpJx1stbv0lftJWMHw38l4G2BhcdBBMX2/+WW55WNx2dEBEbzqiLXs1Ps70Nws1ER1xei8Fvf1xO6UdFl3UNkcGglVkRkQAUZbNx8TK2mynKRuKlnjwERNrG8HljWcKtFsKtl3q1IMYlRg9Aqv8fc6zlgvsEA4RGhHPp3QIjiY7XUBu5sqhnVkREREQClopZEREREQlYKmZFREREJGCpmBURERGRgKViVkREREQClopZEREREQlYKmZFREREJGAFXRUSQvZrOUbn6Ffd0WN0ejz8eWOW0VH61WA/iutk85DN5/N1Uvi3v1Ndc8joKP06c+YMI74wwugYIiIiEsCCfpO1lsrKKqNz9Otamw2TKQSvt9PoKP2act2djBw5Er/ff/GTDXDTpHvx+bqMjnFBc2+5mdiYGKNjiIiISAALSp48meTJk43OISIiIiLyP1PPrIiIiIgELBWzIiIiIhKwVMyKiIiISMBSMSsiIiIiAUvFrIiIiIgELBWzIiIiIhKwVMyKiIiISMAKMjqAiMhwkrvlDaMjDKq8N2qMjjCo9u5sMDqCiPyHEWfPnj1rdAgRkeFg//4DlB0oNzrGoDGHh9Hm7jA6xqC50u532g1TufHGG4yOIXJRKmZFREREJGD9G0z9oXRGVqQpAAAAAElFTkSuQmCC\" style=\"cursor:pointer;max-width:100%;\" onclick=\"(function(img){if(img.wnd!=null&&!img.wnd.closed){img.wnd.focus();}else{var r=function(evt){if(evt.data=='ready'&&evt.source==img.wnd){img.wnd.postMessage(decodeURIComponent(img.getAttribute('src')),'*');window.removeEventListener('message',r);}};window.addEventListener('message',r);img.wnd=window.open('https://www.draw.io/?client=1&lightbox=1&edit=_blank');}})(this);\"/>"
   ]
  },
  {
   "cell_type": "markdown",
   "metadata": {
    "slideshow": {
     "slide_type": "fragment"
    }
   },
   "source": [
    "Kernel $K$ etsii kuvasta vinoja reunoja ja vain kuvan oikeassa alakulmassa esiintyy sellainen. Muualta löytyy osittaisia vinoja piirteitä. Kerneleitä on konvoluutioverkoissa normaalisti useita ja useissa kerroksissa."
   ]
  },
  {
   "cell_type": "markdown",
   "metadata": {
    "collapsed": true,
    "slideshow": {
     "slide_type": "slide"
    }
   },
   "source": [
    "### 9.2 Motivation"
   ]
  },
  {
   "cell_type": "markdown",
   "metadata": {
    "slideshow": {
     "slide_type": "fragment"
    }
   },
   "source": [
    "Konvoluutio käyttää apunaan kolmea perustanaan toimivaa ideaa, jotka edesauttavat menetelmää hyödyntäviä koneoppimisjärjestelmiä: harvoja vuorovaikutussuhteita (*sparse interactions*), parametrien jakamista (*parameter sharing*) ja samankaltaista muuttuvaisuutta (*equivariance*)."
   ]
  },
  {
   "cell_type": "markdown",
   "metadata": {
    "slideshow": {
     "slide_type": "subslide"
    }
   },
   "source": [
    "#### Sparse interactions"
   ]
  },
  {
   "cell_type": "markdown",
   "metadata": {
    "slideshow": {
     "slide_type": "fragment"
    }
   },
   "source": [
    "Perinteiset myötäkytketyt verkot toimivat siten, että kerrosten välillä jokainen edellisen kerroksen neuroni on tekemisissä jokaisen seuraavan kerroksen neuronin kanssa - ne ovat täysin kytkettyjä. Konvoluutioverkot ovat sen sijaan harvoja, kuten aiemmasta kuvastakin kävi ilmi. "
   ]
  },
  {
   "cell_type": "markdown",
   "metadata": {
    "slideshow": {
     "slide_type": "subslide"
    }
   },
   "source": [
    "Koska kokonaisten kuvien sijasta käsitelläänkin pienempiä kerneleillä tuotettuja piirrekarttoja, on verkon parametrien määrä kerrosten välillä täysin kytkettyjä verkkoja pienempi. Tällöin kerneleitä käytetään löytämään syötteinä tuoduista kuvista merkityksillisiä piirteitä, kuten reunoja. Näin kuvan jokaista pikseliä ei käsitellä merkityksellisenä, jolloin koulutettavia parametreja ei tarvitse olla myöskään jokaiselle pikselille."
   ]
  },
  {
   "cell_type": "markdown",
   "metadata": {
    "slideshow": {
     "slide_type": "subslide"
    }
   },
   "source": [
    "Vaikka kirjassa harvat kytkennät esitetään kiinteinä osittaiskytkentöinä, jossa edellisen kerroksen neuronit ovat kytketty kiinteästi osaan seuraavan kerroksen neuroita, on konvoluutioverkon harvakytkentäisyydessä suurin tekijä kerneleiden avulla tuotettujen pienempien kuvien harvuus - tiettyjä piirteitä löytyy vain joistain kohden kuvaa. Osittaiskytkentä on konvoluutioverkoissa täten ennemmin *dropout*-regularisointia vastaavaa, koulutuksen aikaista dynaamista ja syötteestä riippuvaa harvuutta."
   ]
  },
  {
   "cell_type": "markdown",
   "metadata": {
    "slideshow": {
     "slide_type": "subslide"
    }
   },
   "source": [
    "#### Parameter sharing"
   ]
  },
  {
   "cell_type": "markdown",
   "metadata": {
    "slideshow": {
     "slide_type": "fragment"
    }
   },
   "source": [
    "Edelleen käyttäen perinteisiä verkkoja esimerkkinä, jokaista edeltävän kerroksen ulostuloa käytetään seuraavan kerroksen ulostulon laskentaan vain kerran. Sen sijaan konvoluutioverkoissa jokaista kerneliä käytetään lähtökohtaisesti syötteen jokaiselle alkiolle, kuvan tapauksessa pikselille. Sen sijaan että jokaiselle syötekuvan osalle tai alkiolle opittaisiin oma parametrien kokoonpano, opitaankin joukko koko kuvaan sovitettuja uniikkeja kerneleitä, jotka pyrkivät oppimaan merkittävimmät datasta löytyvät piirteet."
   ]
  },
  {
   "cell_type": "markdown",
   "metadata": {
    "slideshow": {
     "slide_type": "subslide"
    }
   },
   "source": [
    "#### Equivariance"
   ]
  },
  {
   "cell_type": "markdown",
   "metadata": {
    "slideshow": {
     "slide_type": "fragment"
    }
   },
   "source": [
    "Kun funktio on samankaltaisesti muuttuva (*equivariant*), se kykenee löytämään toisistaan poikkeavista syötteistä niissä esiintyviä samoja piirteeitä. Jos kyseessä on kuva ja siitä tehty muunnos vaikkapa siirroksella, samankaltaisesti mukautuva funktio löytää kuvista samat piirteet muunnoksesta huolimatta. Siirroksella muunnetun kuvan piirteet ovat tosin ulostulossa siirroksen verran eri paikassa. Funktio toisin sanoen muuttuu eli mukautuu tällöin syötteen mukaisesti. Yksinkertaisten kyse on funktion robustisuudesta syötteen muunnoksia kohtaan."
   ]
  },
  {
   "cell_type": "markdown",
   "metadata": {
    "slideshow": {
     "slide_type": "slide"
    }
   },
   "source": [
    "### 9.3 Pooling"
   ]
  },
  {
   "cell_type": "markdown",
   "metadata": {
    "slideshow": {
     "slide_type": "fragment"
    }
   },
   "source": [
    "Syötteen hajottaminen piirrekarttoihin konvoluutiolla on konvoluutioverkon piilokerroksien operaatioista ensimmäinen. Tätä seuraa usein lineaarisuuden katkaiseminen esimerkiksi oikaistulla lineaarifunktiolla (*ReLU*), jota kutsutaan joskus havaintovaiheeksi (*detector stage*). Viimeinen operaatioista on koonti (*pooling*)."
   ]
  },
  {
   "cell_type": "markdown",
   "metadata": {
    "slideshow": {
     "slide_type": "subslide"
    }
   },
   "source": [
    "Koontivaiheessa epälineaariset piirrekartat syötetään valittuun koontifunktioon (*pooling function*). Tällöin piirrekartat arvot ryhmitellään ja näistä ryhmistä otetaan jokin valittu tilastollinen suure. Maksimikoonnissa (*max pooling*) otetaan ryhmäkohtainen suurin arvo, kun taas keskiarvokoonnissa (*mean pooling*) lasketaan alkioiden keskiarvo. "
   ]
  },
  {
   "cell_type": "markdown",
   "metadata": {
    "slideshow": {
     "slide_type": "subslide"
    }
   },
   "source": [
    "Alla on esimerkki yhteen kernelin tuotokseen $S$ eli piirrekarttaan tehdystä maksimikoonnista:"
   ]
  },
  {
   "cell_type": "markdown",
   "metadata": {
    "slideshow": {
     "slide_type": "fragment"
    }
   },
   "source": [
    "<img src=\"data:image/png;base64,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\" style=\"max-width:100%;\" />"
   ]
  },
  {
   "cell_type": "markdown",
   "metadata": {
    "slideshow": {
     "slide_type": "fragment"
    }
   },
   "source": [
    "Koonnin ryhmän kokona on $(2,2)$ eivätkä ryhmät mene limittäin. Tällöin piirrekartta $S$ käytännössä puolitetaan siten, että jokaiselta yksittäiseltä ryhmältä otetaan sen suurin arvo talteen. Näin toimittaessa löydettyjen piirrekarttojen hienovaraisuutta saadaan rikottua ja niistä saadaan näin robustimpia pieniä muutoksia kohtaan. Esimerkiksi kasvot voivat olla hieman eri asennossa, mutta ne tunnistetaan silti ylimalkaisesti kasvoiksi. Näin malli saadaan paremmin löytämään jokin piirre ylipäätään sen sijaan, että sitä etsittäin vain jossain tarkassa tapauksessa."
   ]
  },
  {
   "cell_type": "markdown",
   "metadata": {
    "slideshow": {
     "slide_type": "subslide"
    }
   },
   "source": [
    "Näin konvoluutioverkon kerroksen opittavalle funktiolle saadaan asetettua myös ennakkoehto (*prior*), että sen on oltava muuttumaton pienille kuvatason muunnoksille. Mikäli yhden piirrekartan sijaan koonti tehdään selkeästi toisista poikkeavien mutta samaa asiaa tunnistavien piirteiden kohdalla, voi verkko oppia muuttumattomaksi myös merkittävämpiä muunnoksia kohtaan."
   ]
  },
  {
   "cell_type": "markdown",
   "metadata": {
    "slideshow": {
     "slide_type": "subslide"
    }
   },
   "source": [
    "Koonnilla on koulutuksen kannalta mieluisia sivuvaikutuksia. Kun alkuperäiset syötekuvat hajotetaan pienemmiksi piirrekartoiksi, on laskenta jo silloin tehokkaampaa verrattuna pikseli pikseliltä käsittelyyn. Kun piirrekartat vielä edelleen tiivistetään koonnilla, laskevat laskennan muistivaatimukset entisestään. Koonnin seurauksena syötteen tilastolliset ominaisuudet voivat myös parantua. Joissain tapauksessa koonnin käyttö hankaloittaa käytettyjen verkkojen arkkitehtuureja. Näin on mm. Boltzmannin koneiden (*Boltzmann machines*) ja autoenkooderien (*autoencoder*) kanssa. "
   ]
  },
  {
   "cell_type": "markdown",
   "metadata": {
    "slideshow": {
     "slide_type": "slide"
    }
   },
   "source": [
    "### 9.4 Convolution and Pooling as an Infinitely Strong Prior"
   ]
  },
  {
   "cell_type": "markdown",
   "metadata": {
    "slideshow": {
     "slide_type": "fragment"
    }
   },
   "source": [
    "Mallien parametreja voidaan alustaa ennalta jonkin todennäköisyysjakauman mukaisesti (*prior probability distribution*). Tällöin mallille asetetaan ennen koulutusta jo jotain ennakkoehtoja koulutukseen sen osalta, mihin mistä lähtöasetelmasta parametrit ylipäätään lähtevät kouluttumaan. Mikäli jakaumassa on paljon varianssia eli entropiaa, ennakkojakaumaa kutsutaan heikoksi. Vahvat ennakkojakaumat taas ovat hyvin keskittyneitä eli niillä on matala varianssi."
   ]
  },
  {
   "cell_type": "markdown",
   "metadata": {
    "slideshow": {
     "slide_type": "subslide"
    }
   },
   "source": [
    "Äärettömän suuri ennakkojakauma pitää joitain parametreja täydellisen epätodennäköisinä, vaikka data tukisikin niiden käyttöä. Näin on konvoluutioverkkojen kanssa. Koska kuvat käydään kokonaisuudessaan läpi kernelkohtaisesti, pysyvät koko kuvan ajan yhden kernelin parametrit identtisinä. Tästä johtuen suuri osa piirrekarttojen arvoista saavat arvon nolla, sillä samaa piirrettä ei lähtökohtaisesti löydy kaikkialla kuvasta. Toisaalta myös tietyt piirteet painottuvat selvästi yli muiden, sillä ne määrittävät eniten opittavaa ilmiötä. Tällöin parametrien arvot keskittyvät vahvasti ja hajonta on pientä."
   ]
  },
  {
   "cell_type": "markdown",
   "metadata": {
    "slideshow": {
     "slide_type": "subslide"
    }
   },
   "source": [
    "Siksipä siis konvoluutioverkkojen ongelmana onkin alisovittuminen. Mikäli tavoitteena on säilyttää merkittävimmät avaruudelliset (*spatial*) piirteet ja verkon jokaisessa vaiheessa käytetään koontia, voi koulutusvirhe laskemisen sijaan itseasiassa vain kasvaa. Mikäli merkitykselliset piirteet ovat syötteissä kaukana toisistaan, konvoluutioverkon keskittynyt ennakkojakauma tekee sen käytöstä epäsuotuisaa."
   ]
  },
  {
   "cell_type": "markdown",
   "metadata": {
    "slideshow": {
     "slide_type": "subslide"
    }
   },
   "source": [
    "Konvoluutioverkkojen kerroskohtaisten operaatioiden tuoman äärettömän vahvan parametrien ennakkojakauman vuoksi konvoluutioverkot ovat vertailtavissa vain toisiin konvoluutioverkkoihin. Täysin myötäkytketyt verkot kykenevät oppimaan lähes mitä vain, vaikka syötteenä olisi kaikki kuvan pikselit. Konvoluutioverkoilla näin ei ole."
   ]
  },
  {
   "cell_type": "markdown",
   "metadata": {
    "slideshow": {
     "slide_type": "slide"
    }
   },
   "source": [
    "### 9.5 Variants of the Basic Convolution Function"
   ]
  },
  {
   "cell_type": "markdown",
   "metadata": {
    "slideshow": {
     "slide_type": "fragment"
    }
   },
   "source": [
    "Neuroverkkojen yhteydessä konvoluutiolla tarkoitetaan harvemmin itse matemaattista konvoluutio-operaatiota, sillä käytännön neuroverkkototeutukset eroavat siitä jokseenkin. Ensinnäkin neuroverkkojen konvoluutiolla tarkoitetaan monen rinnakkaisen konvoluutio-operaation suorittamista rinnakkain useamman kernelin käytöstä johtuen.  Tämän lisäksi matemaattisen konvoluutio-operaation reaaliarvojen sijasta neuroverkkojen konvoluutiot tehdään lähes aina vähintään vektoreilla. Konvoluution vaihdannaisuusvaatimuskaan ei konvoluutioverkkojen kohdalla väistämättä täyty."
   ]
  },
  {
   "cell_type": "markdown",
   "metadata": {
    "slideshow": {
     "slide_type": "subslide"
    }
   },
   "source": [
    "Hyvä esimerkki edellä mainituista on värikuva, jonka jokainen pikseli sisältää lukuarvon kunkin kanavan osalta. Pikselit ovat tällöin $[R,G,B]^T$ vektoreita. Kun tähän vielä yhdistetään monikerroksisuus, jossa yhden konvoluutiokerroksen ulostulo toimii seuraavan syötteenä, ei takeita konvoluution funktioiden vaihdannaisuudesta ole. Esimerkiksi jos $C_1$ on ensimmäinen konvoluutioverkon kerros ja $C_2$ sitä seuraava, ei voida varmuudella sanoa, että $(C_1*C_2)(x)=(C_2*C_1)(x)$, etenkään ulostulojen kanavamäärien osalta."
   ]
  },
  {
   "cell_type": "markdown",
   "metadata": {
    "slideshow": {
     "slide_type": "subslide"
    }
   },
   "source": [
    "#### Stride"
   ]
  },
  {
   "cell_type": "markdown",
   "metadata": {
    "slideshow": {
     "slide_type": "fragment"
    }
   },
   "source": [
    "Tähän mennessä konvoluutioverkon konvoluutio on esitetty siten, että se tehdään syötekuvan jokaiselle pikselille kullakin kernelillä. Se voidaan tehdä myös erikseen määritellyn askelpituuden (*stride*) mukaisesti, jolloin kerneleitä siirretään haluttu määrä vaaka- ja pystypikseleitä kiinteän yhden pikselin sijasta. "
   ]
  },
  {
   "cell_type": "markdown",
   "metadata": {
    "slideshow": {
     "slide_type": "subslide"
    }
   },
   "source": [
    "Alla on havainnoillistava kuva:"
   ]
  },
  {
   "cell_type": "markdown",
   "metadata": {
    "slideshow": {
     "slide_type": "fragment"
    }
   },
   "source": [
    "<img src=\"data:image/png;base64,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\" style=\"cursor:pointer;max-width:100%;\" onclick=\"(function(img){if(img.wnd!=null&&!img.wnd.closed){img.wnd.focus();}else{var r=function(evt){if(evt.data=='ready'&&evt.source==img.wnd){img.wnd.postMessage(decodeURIComponent(img.getAttribute('src')),'*');window.removeEventListener('message',r);}};window.addEventListener('message',r);img.wnd=window.open('https://www.draw.io/?client=1&lightbox=1&edit=_blank');}})(this);\"/>"
   ]
  },
  {
   "cell_type": "markdown",
   "metadata": {
    "slideshow": {
     "slide_type": "fragment"
    }
   },
   "source": [
    "Syötekuvasta $I$ etsitään piirteitä siten, että askelpituus $s=(2,2)$. Verrattuna pikseli kerrallaan tehtävään konvoluutioon kuvaa pienennetään vielä merkittävämmin, sillä piirteitä etsitään harvemmin. Pituus- ja vaaka-askelten ei tarvitse olla symmetrisiä."
   ]
  },
  {
   "cell_type": "markdown",
   "metadata": {
    "slideshow": {
     "slide_type": "subslide"
    }
   },
   "source": [
    "#### Padding"
   ]
  },
  {
   "cell_type": "markdown",
   "metadata": {
    "slideshow": {
     "slide_type": "fragment"
    }
   },
   "source": [
    "Konvoluutioverkkojen implementoinneissa on myös mahdollista määritellä sekä syötteille että kerrosten ulostuloille pehmusteet (*padding*). "
   ]
  },
  {
   "cell_type": "markdown",
   "metadata": {
    "slideshow": {
     "slide_type": "subslide"
    }
   },
   "source": [
    "Lähestytään tätäkin asiaa esimerkkikuvan kautta. Otetaan ensin käsittelyyn kuvasyöte $I$."
   ]
  },
  {
   "cell_type": "markdown",
   "metadata": {
    "slideshow": {
     "slide_type": "fragment"
    }
   },
   "source": [
    "<img src=\"data:image/png;base64,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\" style=\"cursor:pointer;max-width:100%;\" onclick=\"(function(img){if(img.wnd!=null&&!img.wnd.closed){img.wnd.focus();}else{var r=function(evt){if(evt.data=='ready'&&evt.source==img.wnd){img.wnd.postMessage(decodeURIComponent(img.getAttribute('src')),'*');window.removeEventListener('message',r);}};window.addEventListener('message',r);img.wnd=window.open('https://www.draw.io/?client=1&lightbox=1&edit=_blank');}})(this);\"/>"
   ]
  },
  {
   "cell_type": "markdown",
   "metadata": {
    "slideshow": {
     "slide_type": "fragment"
    }
   },
   "source": [
    "Esimerkin muuttujista $d_K$ tarkoittaa kernelin kokoa ja $s$ askelta. Piirrekartta saadaan  sovitettua vain neljä kertaa pehmustamattomaan kuvaan, jolloin osa kuvan pikseleistä jää aina käyttämättä. Jos kuvaa pehmustetaan nollilla oikeanpuoleisen kuvan tapaan, saadaan koko kuva käytyä kernelillä $K$ läpi ja tuloksena on syötteen kanssa identtisen kokoinen piirrekartta $I*K$."
   ]
  },
  {
   "cell_type": "markdown",
   "metadata": {
    "slideshow": {
     "slide_type": "subslide"
    }
   },
   "source": [
    "Pehmustettavana syötteenä voi olla yhtäläillä myös konvoluution ulostulo $k\\in K$ ja operaationa tällöin koonti. Tällöin pehmustaminen vaikuttaa koonnin ulostulon dimensioihin."
   ]
  },
  {
   "cell_type": "markdown",
   "metadata": {
    "slideshow": {
     "slide_type": "fragment"
    }
   },
   "source": [
    "<img src=\"data:image/png;base64,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\" style=\"cursor:pointer;max-width:100%;\" onclick=\"(function(img){if(img.wnd!=null&&!img.wnd.closed){img.wnd.focus();}else{var r=function(evt){if(evt.data=='ready'&&evt.source==img.wnd){img.wnd.postMessage(decodeURIComponent(img.getAttribute('src')),'*');window.removeEventListener('message',r);}};window.addEventListener('message',r);img.wnd=window.open('https://www.draw.io/?client=1&lightbox=1&edit=_blank');}})(this);\"/>"
   ]
  },
  {
   "cell_type": "markdown",
   "metadata": {
    "slideshow": {
     "slide_type": "fragment"
    }
   },
   "source": [
    "Jälleen pehmustus auttaa siihen, että kokonainen piirrekartta eli konvoluution tulos huomioidaan. Ilman pehmustusta sekä ulostulon koko pienenee että informaatiota jää käyttämättä."
   ]
  },
  {
   "cell_type": "markdown",
   "metadata": {
    "slideshow": {
     "slide_type": "subslide"
    }
   },
   "source": [
    "Nollilla pehmustamisella on kolme mainitsemisen arvoista erityistapausta:"
   ]
  },
  {
   "cell_type": "markdown",
   "metadata": {
    "slideshow": {
     "slide_type": "fragment"
    }
   },
   "source": [
    "- **Ei pehmustusta**: Syötettä ei pehmusteta lainkaan ja vain täysin täydelliset konvoluutiot sallitaan (esimerkkikuvan vasen tapaus). Tätä kutsutaan joskus kelvolliseksi (*valid*) konvoluutioksi ja konvoluutio- tai koontioperaatioiden seurauksena ulostulon dimensiot pienenevät suhteessa muihin tapauksiin nopeammin. Tämä rajoittaa käytettävien konvoluutiokerrosten määrää."
   ]
  },
  {
   "cell_type": "markdown",
   "metadata": {
    "slideshow": {
     "slide_type": "fragment"
    }
   },
   "source": [
    "- **Tasoittava pehmustus**: Syötteitä pehmustetaan vain sen verran, että seuraava operaatio voi hyödyntää saman kokoista syötettä. Askeleen ollessa yksi suuntaansa on tuotettu ulostulo samankokoinen syötteen kanssa. Tällöin verkon syvyyttä ei rajoita syötteen dimensioiden asteittainen häviäminen. Reunojen lähellä olevat pikselit ovat kuitenkin aliedustettuja verkon laskennassa."
   ]
  },
  {
   "cell_type": "markdown",
   "metadata": {
    "slideshow": {
     "slide_type": "fragment"
    }
   },
   "source": [
    "- **Täysi pehmustus**: Syöte pehmustettaisiin sen joka sivulta siten, että jokainen pikseli käydään kernelillä läpi  yhtä monta kertaa. Kuten tasoittavassa pehmustuksessa, reunojen pikselit jäävät tällöin aliedustetuiksi syötteen keskialueen pikseleihin nähden. Verrattuna esimerkkikuvien pehmustukseen, pehmustus on symmetristä kuvan joka sivulla."
   ]
  },
  {
   "cell_type": "markdown",
   "metadata": {
    "slideshow": {
     "slide_type": "subslide"
    }
   },
   "source": [
    "#### Unshared Convolution"
   ]
  },
  {
   "cell_type": "markdown",
   "metadata": {
    "slideshow": {
     "slide_type": "fragment"
    }
   },
   "source": [
    "Kun on ennalta tiedossa, että kaikkia piirteitä ei ole mielekästä etsiä joka paikasta, ovat paikallisesti yhdistetyt kerrokset perinteistä konvoluutiota parempi vaihtoehto. Tätä kutsutaan ei-jaetuksi konvoluutioksi (*unshared convolution*). \n",
    "\n",
    "Tällöin vain osa edellisen kerroksen neuroneista on yhdistetty yhteen seuraavan kerroksen kuhunkin neuroniin, jolloin seuraava kerros käsittelee vain edellisen kerroksen syötteitä ryhmissä, s.o. paikallisesti. Konvoluutioverkkojen tapauksessa neuronien sijasta jokaiselle konvoluution tuottamalle piirrekartalle määritetään omat painot. Piirrekartat tai niiden koonnit yhdistetään tämän jälkeen vain osittain seuraavaan kerrokseen. "
   ]
  },
  {
   "cell_type": "markdown",
   "metadata": {
    "slideshow": {
     "slide_type": "subslide"
    }
   },
   "source": [
    "Ositeltu konvoluutio (*tiled convolution*) on kompromissi perinteisen ja ei-jaetun konvoluution välillä. Tällöin käytetään kerneleiden settiä, josta otetaan käyttöön jokaisen syötteessä tapahtuvan siirtymän jälkeen seuraava kernel järjestyksessä. Näin saadaan tasapainoa sekä perinteisen konvoluution että paikallisten piirteiden havaitsemisen välillä. Havainnollistetaan jälleen."
   ]
  },
  {
   "cell_type": "markdown",
   "metadata": {
    "slideshow": {
     "slide_type": "fragment"
    }
   },
   "source": [
    "<img src=\"data:image/png;base64,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\" style=\"cursor:pointer;max-width:100%;\" onclick=\"(function(img){if(img.wnd!=null&&!img.wnd.closed){img.wnd.focus();}else{var r=function(evt){if(evt.data=='ready'&&evt.source==img.wnd){img.wnd.postMessage(decodeURIComponent(img.getAttribute('src')),'*');window.removeEventListener('message',r);}};window.addEventListener('message',r);img.wnd=window.open('https://www.draw.io/?client=1&lightbox=1&edit=_blank');}})(this);\"/>"
   ]
  },
  {
   "cell_type": "markdown",
   "metadata": {
    "slideshow": {
     "slide_type": "fragment"
    }
   },
   "source": [
    "Erottelun vuoksi kerneleiden setistä käytetään merkintää $K_S$. Perinteisessä konvoluutioverkon konvoluutiossa kuvasta $I$ tuotettaisiin vain yhden kernelin mukaisia ulostuloja, kun ositellussa konvoluutiossa kerneleitä vaihdellaan systemaattisesti. Mikäli kerneleitä olisi setissä vaikkapa kolme, vain setin ensimmäinen kernel tulisi käytetyksi $I$:n kanssa kahdesti."
   ]
  },
  {
   "cell_type": "markdown",
   "metadata": {
    "slideshow": {
     "slide_type": "subslide"
    }
   },
   "source": [
    "Paikallisesti yhdistetyillä konvoluutioverkoilla on luontaisesti kyky oppia mahdollisesti samasta piirteistä sen eri muunnoksia. Tämä tekee mallista vieläkin robustimman piirteiden muutoksia kohtaan."
   ]
  },
  {
   "cell_type": "markdown",
   "metadata": {
    "slideshow": {
     "slide_type": "subslide"
    }
   },
   "source": [
    "#### Training "
   ]
  },
  {
   "cell_type": "markdown",
   "metadata": {
    "slideshow": {
     "slide_type": "fragment"
    }
   },
   "source": [
    "Konvoluutioverkot ovat koulutettavissa *backpropilla*. Jotta konvoluutioverkot voivat oppia, on niiden kerneleille voitava laskea gradientit suhteessa mallin tuottamaan virheeseen. Jotta gradientit voidaan laskea, on otettava gradientteja laskiessa huomioon kulloinkin käytetty askelkoko, syötteiden dimensiot ja mahdollinen pehmennys. Kun nämä huomioidaan, on kerneleiden parametrien gradientit laskettavissa sopivilla matriisimuunnoksilla, joista merkittävin on konvoluutio-operaation matriisin transpoosi.\n",
    "\n",
    "Normaalisti konvoluutioverkossa ei käytetä lineaarisia toimintoja syötteen käsittelyissä. Tavallista on myös, että jokaiselle kerrokselle tai paikalliselle yhteydelle on oma *bias*-terminsä ja verkon ulostulon jokaiselle kanavalle omansa."
   ]
  },
  {
   "cell_type": "markdown",
   "metadata": {
    "slideshow": {
     "slide_type": "slide"
    }
   },
   "source": [
    "### 9.6 Structured Outputs"
   ]
  },
  {
   "cell_type": "markdown",
   "metadata": {
    "slideshow": {
     "slide_type": "fragment"
    }
   },
   "source": [
    "Konvoluutioverkkoja voidaan käyttää myös moniulotteisen jäsennellyn ulostulon tuottamiseen. Tällöin yksittäisen luokan sijasta voidaan tuottaa esimerkiksi pikselitason luokittelumaskeja. Tällöin voidaan välttää koontia, sillä se tavallisesti pienentää verkon lopullista ulostuloa suhteessa syötteeseen heikentäen syötteen ja ulostulon keskinäistä vertailua. Toisaalta on myös mahdollista, että ulostulo käsitellään matalampiresoluutioisena luokittelumaskina, jossa yksi pikseli vastaa pienehköä aluetta syötteessä."
   ]
  },
  {
   "cell_type": "markdown",
   "metadata": {
    "slideshow": {
     "slide_type": "subslide"
    }
   },
   "source": [
    "Tällöin konvoluutioverkosta rakennetaan esimerkiksi rekursiivista verkkoa muistuttava kokonaisuus, jossa samojen konvoluutiokerrosten piirrekarttoja käytetään useita kertoja ja verkon ulostulo kytketään takaisin piilokerroksiin. Tällöin hyödynnetään sitä oletusta, että kuvissa esiintyvät vierekkäiset pikselit liittyvät usein samaan luokkaan eli tunnistettavaan hahmoon."
   ]
  },
  {
   "cell_type": "markdown",
   "metadata": {
    "slideshow": {
     "slide_type": "slide"
    }
   },
   "source": [
    "### 9.7 Data Types"
   ]
  },
  {
   "cell_type": "markdown",
   "metadata": {
    "slideshow": {
     "slide_type": "fragment"
    }
   },
   "source": [
    "Vaikka konvoluutioverkkoihin tavallisesti syötetään kuvia, voidaan siihen syöttää monenlaista dataa sekä yksi- että monikanavaisena:\n",
    "\n",
    "- *1D*: Ääniaaltodata, partikkelin suuntavektoridata.\n",
    "- *2D*: Harmaasävy- ja värikuvadata.\n",
    "- *3D*: Volumetrinen data, videodata."
   ]
  },
  {
   "cell_type": "markdown",
   "metadata": {
    "slideshow": {
     "slide_type": "subslide"
    }
   },
   "source": [
    "Konvoluutioverkko kykenee käsitelemään myös koon puolesta vaihtelevia syötteitä, mikä ei ole luontaisesti mahdollista perinteisillä myötäkytketyillä verkoilla. Kuvan koosta riippuen vain kerneleiden syötekohtainen käyttömäärä vaihtelee, mutta kerneleiden määrä ja ominaisuudet säilyvät samoina syötteestä toiseen. Vaihtelevien syötekokojen kohdalla on kuitenkin ensiarvoisen tärkeää, että syötteet liittyvät aina vain johonkin tiettyyn luokkaan tai ilmiöön. Sillä jos koon lisäksi sisältö vaihtuu, ei konvoluutiota voida suoraan sellaisenaan hyödyntää."
   ]
  },
  {
   "cell_type": "markdown",
   "metadata": {
    "slideshow": {
     "slide_type": "slide"
    }
   },
   "source": [
    "### 9.8 Efficient Convolution Algorithms"
   ]
  },
  {
   "cell_type": "markdown",
   "metadata": {
    "slideshow": {
     "slide_type": "fragment"
    }
   },
   "source": [
    "Laskennallisen tehostamisen, kuten rinnakkaislaskennan, lisäksi konvoluutioverkkojen toimintaa voidaan myös nopeuttaa konvoluutioalgoritmin valinnalla. Tämä on aktiivista tutkimuksen aluetta. Kun sekä syöte että kernel nähdään omina signaaleinaan, voidaan konvoluutiota käsitellä Fourier-muunnoksena. Tämä voi olla suuremman kokoluokan ongelmissa nopeampi laskentatapa, kuin naiivi suoraviivainen konvoluutio. Toisaalta mikäli kernelit voidaan erotella vektoreihin, on suoraviivainen konvoluutio tehoton. Tällöin on huomattavasti tehokkaampaa suorittaa konvoluutio nähin vektoreihin, kuin yhteen moniulotteiseen kerneleiden matriisiin."
   ]
  },
  {
   "cell_type": "markdown",
   "metadata": {
    "slideshow": {
     "slide_type": "slide"
    }
   },
   "source": [
    "### 9.9 Random or Unsupervised Features"
   ]
  },
  {
   "cell_type": "markdown",
   "metadata": {
    "slideshow": {
     "slide_type": "fragment"
    }
   },
   "source": [
    "Koulutuksen vaativin osa on kerneleiden ja tätä kautta dataa mallintavien piirteiden oppiminen. Kerneleiden satunnaisen alustamisen ohella on muitakin alustusstrategioita, joilla voidaan nopeuttaa piirteiden oppimista."
   ]
  },
  {
   "cell_type": "markdown",
   "metadata": {
    "slideshow": {
     "slide_type": "subslide"
    }
   },
   "source": [
    "Ensimmäinen näistä on manuaalinen kerneleiden säätäminen. Kartat voidaan säätää löytämään tiettyjä muotoja, kuten reunoja, kulmia ja pyöreitä muotoja. Toinen on kerneleiden alustus ohjaamattoman oppimisen keinoin. Tällöin voidaan esimerkiksi tehdä koulutusdatalle ensin klusterointia, josta saatavia tuloksia sitten hyödynnetään kerneleiden alustamisessa. Satunnaisesti alustetut kernelit ovat empiirisissä tutkimuksissa osoittautuneet toimiviksi konvoluutioverkoissa. Konvoluutiokerroksissa, joissa suoritetaan myös lopuksi koonti, näyttää tapahtuvan luonnollisesti erikoistumista tietyille piirteille."
   ]
  },
  {
   "cell_type": "markdown",
   "metadata": {
    "slideshow": {
     "slide_type": "subslide"
    }
   },
   "source": [
    "Kuten myötäkytketyt verkot, myös konvoluutioverkot voidaan kouluttaa kerros kerrallaan. Tämä helpottaa koulutusta etenkin syvien konvoluutioverkkojen tapauksissa ja edesauttaa myös piirteiden löytämistä. Toisaalta nykyisin käytössä on jo huomattavasti paremmin laskentatehoa, jolloin konvoluutioverkotkin voidaan kouluttaa suoraan sellaisinaan ilman pilkkomista."
   ]
  },
  {
   "cell_type": "markdown",
   "metadata": {
    "slideshow": {
     "slide_type": "slide"
    }
   },
   "source": [
    "### 9.10 Neuroscientific Basis for Convolutional Networks"
   ]
  },
  {
   "cell_type": "markdown",
   "metadata": {
    "slideshow": {
     "slide_type": "fragment"
    }
   },
   "source": [
    "Konvoluutioverkkojen perustavana toimivat ajatukset juontavat juurensa hyvin vahvasti biologiaan ja neurotieteisiin. Aiheen tutkimus on saanut alkunsa jo 1950-luvulla, kun tahdottiin saada selvyyttä ihmisten ja eläinten tapaa hahmottaa asioita havainnoistaan. Tutkimuksissa havaittiin, että näköhavainnon ensimmäisenä vastaanottavat aivojen osat aktivoituivat selkeiden erottuvien muotojen, kuten rajojen ja reunojen kohdilla. "
   ]
  },
  {
   "cell_type": "markdown",
   "metadata": {
    "slideshow": {
     "slide_type": "subslide"
    }
   },
   "source": [
    "Tästä seurasi mm. konvoluutioverkkoihin liittyvän tutkimuksen kehittyminen etenkin aivojen näköalueen toimintatavan matkimisessa. Konvoluutioverkot pyrkivät mallintamaan aivojen näköaluetta kolmella tapaa: "
   ]
  },
  {
   "cell_type": "markdown",
   "metadata": {
    "slideshow": {
     "slide_type": "fragment"
    }
   },
   "source": [
    "- **Kerneleiden avulla**: Näköalue on pinta, jonka alueet vastaavat silmän pohjan pintaan. Konvoluutioverkot matkivat tätä pintamaisten eli kaksiulotteisten piirrekarttojen avulla."
   ]
  },
  {
   "cell_type": "markdown",
   "metadata": {
    "slideshow": {
     "slide_type": "fragment"
    }
   },
   "source": [
    "- **Lineaarisen aktivoinnin avulla**: Näköalueessa yksinkertaisia soluja, jotka aktivoituvat paikallisesti. Konvoluutioverkoissa vastaavina toimivat konvoluution jälkeiset aktivointifunktiot."
   ]
  },
  {
   "cell_type": "markdown",
   "metadata": {
    "collapsed": true,
    "slideshow": {
     "slide_type": "fragment"
    }
   },
   "source": [
    "- **Piirteiden robustisuuden avulla**: Näköalueessa on myös monimutkaisempia soluja, jotka takaavat yksinkertaisten solujen havaitsemien piirteiden robustisuuden (*invariance to translation and transformation*). Konvoluutioverkoissa tämä toteutetaan koonnin keinoin."
   ]
  },
  {
   "cell_type": "markdown",
   "metadata": {
    "slideshow": {
     "slide_type": "subslide"
    }
   },
   "source": [
    "Vaikka ihmisaivot ovat kokonaisuutena todella paljon niiden yksittäistä osaa monimutkaisemmat, on konvoluutioverkoilla kyetty mallintamaan näköhavainnon ensimmäistä läpikulkua silmästä aina aivojen näköalueen läpi näyttämällä kuvaa vain hyvin pienen hetken. Jos kuvaa näytetään yhtään pidempään, alkaa aivojen takaisinsyöttömekanismit aktivoimaan muita osia ja havaintoja ruvetaan prosessoimaan paljon monimutkaisemmin ja -ulotteisemmin."
   ]
  },
  {
   "cell_type": "markdown",
   "metadata": {
    "slideshow": {
     "slide_type": "subslide"
    }
   },
   "source": [
    "Kaikenkaikkiaan, kuten muidenkin neuroverkkotyyppien kohdalla, konvoluutioverkot ovat vain biologisista ja toistaiseksi ihmisen täydellisen matkintakyvyn ulottumattomissa olevista hienosäädetyistä mekanismeista vain perusideoita ammentava varjo. Toisin sanoen verkon ideat pohjaavat biologiaan, mutta sen biologisen idolin toimintatapoja ei ymmärretä niin hyvin, että menetelmän voitaisiin sanoa toimivan kuten biologiset menetelmät."
   ]
  },
  {
   "cell_type": "markdown",
   "metadata": {
    "slideshow": {
     "slide_type": "subslide"
    }
   },
   "source": [
    "Konvoluutioverkkojen kehitys lähti itseasiassa jopa liikkeelle viiveneuroverkoista (*time delay neural neutworks*), jotka ovat yksiulotteisia konvoluutioverkkoja ja kuitenkin samalla biologisesti lähes mahdottomia. Tätä kehitystä laajennettiin kaksiulotteisen datan alueelle, josta päästiin nykyisiin konvoluutioverkkoihin. Tällöin voitaisiin jopa hyvällä omallatunnolla todeta, että konvoluutioverkkojen vertailu biologiseen näköhavaintojen käsittelyyn on, ellei suoranaisesti jälkiviisasta, niin ainakin vertailun kohdetta redusoivaa."
   ]
  },
  {
   "cell_type": "markdown",
   "metadata": {
    "slideshow": {
     "slide_type": "slide"
    }
   },
   "source": [
    "### 9.11 Convolutional Neural Networks and the History of Deep Learning"
   ]
  },
  {
   "cell_type": "markdown",
   "metadata": {
    "slideshow": {
     "slide_type": "fragment"
    }
   },
   "source": [
    "Kuten edellisessä aliluvussa todettiin, konvoluutioverkkojen lähtökohtana on ihmisten ja eläinten näköhavaintojen muodostumisen tutkimus. Nykyaikaisia konvoluutioverkkoja on käytetty aina 1990-luvun lopulta alkaen jopa kaupallisissa tunnistustehtävissä, mm. kuittien lukemisessa ja käsikirjoituksen sekä tekstin tunnistuksessa."
   ]
  },
  {
   "cell_type": "markdown",
   "metadata": {
    "slideshow": {
     "slide_type": "subslide"
    }
   },
   "source": [
    "Verkkoja on käytetty myös menestyksekkäästi monissa kuvan- ja hahmontunnistuksen kilpailussa, joista ehkä tunnetuin on ImageNet Large Scale Visual Recognition Competition eli ILSVRC. Etenkin vuoden 2012 jälkeen konvoluutioverkkoja on käytetty aina vain laajenevassa mittakaavassa ja kasvavalla menestyksellä."
   ]
  }
 ],
 "metadata": {
  "celltoolbar": "Slideshow",
  "hide_input": false,
  "kernelspec": {
   "display_name": "Python 3",
   "language": "python",
   "name": "python3"
  },
  "language_info": {
   "codemirror_mode": {
    "name": "ipython",
    "version": 3
   },
   "file_extension": ".py",
   "mimetype": "text/x-python",
   "name": "python",
   "nbconvert_exporter": "python",
   "pygments_lexer": "ipython3",
   "version": "3.6.5"
  },
  "toc": {
   "nav_menu": {},
   "number_sections": false,
   "sideBar": true,
   "skip_h1_title": true,
   "title_cell": "Table of Contents",
   "title_sidebar": "Contents",
   "toc_cell": true,
   "toc_position": {},
   "toc_section_display": true,
   "toc_window_display": false
  }
 },
 "nbformat": 4,
 "nbformat_minor": 2
}
