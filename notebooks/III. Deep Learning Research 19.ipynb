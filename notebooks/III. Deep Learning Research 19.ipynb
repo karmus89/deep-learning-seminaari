{
 "cells": [
  {
   "cell_type": "markdown",
   "metadata": {
    "slideshow": {
     "slide_type": "slide"
    }
   },
   "source": [
    "*Created by Petteri Nevavuori.*\n",
    "\n",
    "---\n",
    "\n",
    "# Deep Learning seminaari\n",
    "\n",
    "Kirjana Goodfellow et al.: Deep Learning (2016)\n",
    "\n",
    "Otsikot seuraavat pääotsikoiden tasolla kirjaa, mutta alaotsikot eivät aina."
   ]
  },
  {
   "cell_type": "markdown",
   "metadata": {
    "slideshow": {
     "slide_type": "slide"
    },
    "toc": true
   },
   "source": [
    "<h1>Table of Contents<span class=\"tocSkip\"></span></h1>\n",
    "<div class=\"toc\"><ul class=\"toc-item\"><li><span><a href=\"#19.-Approximate-Inference\" data-toc-modified-id=\"19.-Approximate-Inference-1\">19. Approximate Inference</a></span><ul class=\"toc-item\"><li><span><a href=\"#19.1-Inference-as-Optimization\" data-toc-modified-id=\"19.1-Inference-as-Optimization-1.1\">19.1 Inference as Optimization</a></span></li></ul></li></ul></div>"
   ]
  },
  {
   "cell_type": "markdown",
   "metadata": {
    "slideshow": {
     "slide_type": "slide"
    }
   },
   "source": [
    "## 19. Approximate Inference"
   ]
  },
  {
   "cell_type": "markdown",
   "metadata": {
    "slideshow": {
     "slide_type": "fragment"
    }
   },
   "source": [
    "Monien todennäköisyysmallien koulutus on hankalaa, sillä piilokerroksia sisältävien graafimaisten mallien tarkka inferenssi on usein lähes mahdotonta laskea kaikkien mahdollisten muuttujien jakaumien laskennan resurssi-intensiivisyyden vuoksi. Tässä luvussa käsitellään joitakin tekniikoita tämän ongelman ratkaisemiseksi."
   ]
  },
  {
   "cell_type": "markdown",
   "metadata": {
    "slideshow": {
     "slide_type": "slide"
    }
   },
   "source": [
    "### 19.1 Inference as Optimization"
   ]
  },
  {
   "cell_type": "markdown",
   "metadata": {
    "slideshow": {
     "slide_type": "fragment"
    }
   },
   "source": [
    "Inferenssi voidaan nähdä optimointiongelmana, jolloin likimääräisten inferenssialgoritmien johtaminen mahdollistuu. Lähestymistapana on tällöin inferenssin optimoinnin likimääräistäminen. Mikäli piilomuuttujia sisältävän mallin koko todennäköisyysjakauman $p(x;\\theta)$ laskenta on haastavaa, voidaan aloittaa laskemalla todennäköisyyksien alarajat. Tämä tunnetaan mm. vaihtelevana vapaana energiana (*variational free energy*). Tekstissä puhutaan mallin yksikköjen osalta näkyvistä muuttujista $v$ ja piilomuuttujista $h$, mutta selkeyden vuoksi näkyvät muuttujat rinnastetaan itse näytteiden muuttujiin $x$."
   ]
  },
  {
   "cell_type": "markdown",
   "metadata": {
    "slideshow": {
     "slide_type": "subslide"
    }
   },
   "source": [
    "Vaihteleva vapaa energia $\\mathcal{L}(x,\\theta,q)$ lasketaan näytteiden muuttujien ja mallin parametrien lisäksi piilomuuttujien jakauman $q$ avulla. Riippuen $q$:n jakaumasta, $\\mathcal{L}$ voi olla alkuperäistä jakaumaa huomattavasti helpompi laskea. Sen tuottama todennäköisyys on maksimissaan sama, kuin tavoitellulla todennäköisyysjakaumalla $p(x;\\theta)$. Mikäli $q$ vastaa täysin jakaumaa $p(h \\mid x)$, niin $\\mathcal{L}(x,\\theta,q) = p(x;\\theta)$.  Tällöin inferenssialgoritmin optimointi muotoutuu sellaisen $q$:n etsinnäksi, joka maksimoi $\\mathcal{L}$:n eli tuo sen mahdollisimman lähelle $p$:tä."
   ]
  },
  {
   "cell_type": "code",
   "execution_count": null,
   "metadata": {
    "collapsed": true
   },
   "outputs": [],
   "source": []
  }
 ],
 "metadata": {
  "celltoolbar": "Slideshow",
  "hide_input": false,
  "kernelspec": {
   "display_name": "Python 3",
   "language": "python",
   "name": "python3"
  },
  "language_info": {
   "codemirror_mode": {
    "name": "ipython",
    "version": 3
   },
   "file_extension": ".py",
   "mimetype": "text/x-python",
   "name": "python",
   "nbconvert_exporter": "python",
   "pygments_lexer": "ipython3",
   "version": "3.6.3"
  },
  "toc": {
   "nav_menu": {},
   "number_sections": false,
   "sideBar": true,
   "skip_h1_title": true,
   "title_cell": "Table of Contents",
   "title_sidebar": "Contents",
   "toc_cell": true,
   "toc_position": {
    "height": "calc(100% - 180px)",
    "left": "10px",
    "top": "150px",
    "width": "318px"
   },
   "toc_section_display": true,
   "toc_window_display": true
  }
 },
 "nbformat": 4,
 "nbformat_minor": 2
}
